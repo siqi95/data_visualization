{
 "cells": [
  {
   "cell_type": "code",
   "execution_count": 84,
   "metadata": {},
   "outputs": [
    {
     "data": {
      "text/html": [
       "        <script type=\"text/javascript\">\n",
       "        window.PlotlyConfig = {MathJaxConfig: 'local'};\n",
       "        if (window.MathJax) {MathJax.Hub.Config({SVG: {font: \"STIX-Web\"}});}\n",
       "        if (typeof require !== 'undefined') {\n",
       "        require.undef(\"plotly\");\n",
       "        requirejs.config({\n",
       "            paths: {\n",
       "                'plotly': ['https://cdn.plot.ly/plotly-latest.min']\n",
       "            }\n",
       "        });\n",
       "        require(['plotly'], function(Plotly) {\n",
       "            window._Plotly = Plotly;\n",
       "        });\n",
       "        }\n",
       "        </script>\n",
       "        "
      ]
     },
     "metadata": {},
     "output_type": "display_data"
    },
    {
     "data": {
      "application/vnd.plotly.v1+json": {
       "config": {
        "plotlyServerURL": "https://plot.ly",
        "scrollZoom": true
       },
       "data": [
        {
         "marker": {
          "color": "#FFAA70",
          "line": {
           "color": "black",
           "width": 1
          }
         },
         "name": "All other causes",
         "opacity": 0.8,
         "r": [
          453.59999999999997,
          505.4,
          240.79999999999998,
          79.8,
          51.8,
          43.4,
          46.199999999999996,
          35,
          28,
          25.2,
          44.8,
          39.199999999999996
         ],
         "showlegend": true,
         "subplot": "polar",
         "text": [
          "Apr 1854",
          "May 1854",
          "Jun 1854",
          "Jul 1854",
          "Aug 1854",
          "Sep 1854",
          "Oct 1854",
          "Nov 1854",
          "Dec 1854",
          "Jan 1855",
          "Feb 1855",
          "Mar 1855"
         ],
         "theta": [
          "Jan 1855",
          "Feb 1855",
          "Mar 1855",
          "Apr 1855",
          "May 1855",
          "Jun 1855",
          "Jul 1855",
          "Aug 1855",
          "Sep 1855",
          "Oct 1855",
          "Nov 1855",
          "Dec 1855"
         ],
         "thetaunit": "radians",
         "type": "barpolar"
        },
        {
         "marker": {
          "color": "#709BFF",
          "line": {
           "color": "black",
           "width": 1
          }
         },
         "name": "Wounds & injuries",
         "opacity": 0.8,
         "r": [
          116.19999999999999,
          58.8,
          44.8,
          67.19999999999999,
          68.6,
          292.59999999999997,
          187.6,
          229.6,
          386.4,
          74.19999999999999,
          46.199999999999996,
          25.2
         ],
         "showlegend": true,
         "subplot": "polar",
         "theta": [
          "Jan 1855",
          "Feb 1855",
          "Mar 1855",
          "Apr 1855",
          "May 1855",
          "Jun 1855",
          "Jul 1855",
          "Aug 1855",
          "Sep 1855",
          "Oct 1855",
          "Nov 1855",
          "Dec 1855"
         ],
         "thetaunit": "radians",
         "type": "barpolar"
        },
        {
         "marker": {
          "color": "#E4FF87",
          "line": {
           "color": "black",
           "width": 1
          }
         },
         "name": "Zymotic diseases",
         "opacity": 0.8,
         "r": [
          3865.3999999999996,
          2968,
          1687,
          667.8,
          711.1999999999999,
          1122.8,
          534.8,
          676.1999999999999,
          264.59999999999997,
          179.2,
          249.2,
          127.39999999999999
         ],
         "showlegend": true,
         "subplot": "polar",
         "text": [
          "Apr 1854",
          "May 1854",
          "Jun 1854",
          "Jul 1854",
          "Aug 1854",
          "Sep 1854",
          "Oct 1854",
          "Nov 1854",
          "Dec 1854",
          "Jan 1855",
          "Feb 1855",
          "Mar 1855"
         ],
         "theta": [
          "Jan 1855",
          "Feb 1855",
          "Mar 1855",
          "Apr 1855",
          "May 1855",
          "Jun 1855",
          "Jul 1855",
          "Aug 1855",
          "Sep 1855",
          "Oct 1855",
          "Nov 1855",
          "Dec 1855"
         ],
         "thetaunit": "radians",
         "type": "barpolar"
        },
        {
         "marker": {
          "color": "#FFAA70",
          "line": {
           "color": "black",
           "width": 1
          }
         },
         "name": "All other causes",
         "opacity": 0.4,
         "r": [
          324,
          361,
          172,
          57,
          37,
          31,
          33,
          25,
          20,
          18,
          32,
          28
         ],
         "showlegend": true,
         "subplot": "polar2",
         "text": [
          "Apr 1854",
          "May 1854",
          "Jun 1854",
          "Jul 1854",
          "Aug 1854",
          "Sep 1854",
          "Oct 1854",
          "Nov 1854",
          "Dec 1854",
          "Jan 1855",
          "Feb 1855",
          "Mar 1855"
         ],
         "theta": [
          "Jan 1855",
          "Feb 1855",
          "Mar 1855",
          "Apr 1855",
          "May 1855",
          "Jun 1855",
          "Jul 1855",
          "Aug 1855",
          "Sep 1855",
          "Oct 1855",
          "Nov 1855",
          "Dec 1855"
         ],
         "type": "barpolar"
        },
        {
         "marker": {
          "color": "#709BFF",
          "line": {
           "color": "black",
           "width": 1
          }
         },
         "name": "Wounds & injuries",
         "opacity": 0.4,
         "r": [
          83,
          42,
          32,
          48,
          49,
          209,
          134,
          164,
          276,
          53,
          33,
          18
         ],
         "showlegend": true,
         "subplot": "polar2",
         "text": [
          "Apr 1854",
          "May 1854",
          "Jun 1854",
          "Jul 1854",
          "Aug 1854",
          "Sep 1854",
          "Oct 1854",
          "Nov 1854",
          "Dec 1854",
          "Jan 1855",
          "Feb 1855",
          "Mar 1855"
         ],
         "theta": [
          "Jan 1855",
          "Feb 1855",
          "Mar 1855",
          "Apr 1855",
          "May 1855",
          "Jun 1855",
          "Jul 1855",
          "Aug 1855",
          "Sep 1855",
          "Oct 1855",
          "Nov 1855",
          "Dec 1855"
         ],
         "type": "barpolar"
        },
        {
         "marker": {
          "color": "#E4FF87",
          "line": {
           "color": "black",
           "width": 1
          }
         },
         "name": "Zymotic diseases",
         "opacity": 0.4,
         "r": [
          2761,
          2120,
          1205,
          477,
          508,
          802,
          382,
          483,
          189,
          128,
          178,
          91
         ],
         "showlegend": true,
         "subplot": "polar2",
         "text": [
          "Apr 1854",
          "May 1854",
          "Jun 1854",
          "Jul 1854",
          "Aug 1854",
          "Sep 1854",
          "Oct 1854",
          "Nov 1854",
          "Dec 1854",
          "Jan 1855",
          "Feb 1855",
          "Mar 1855"
         ],
         "theta": [
          "Jan 1855",
          "Feb 1855",
          "Mar 1855",
          "Apr 1855",
          "May 1855",
          "Jun 1855",
          "Jul 1855",
          "Aug 1855",
          "Sep 1855",
          "Oct 1855",
          "Nov 1855",
          "Dec 1855"
         ],
         "type": "barpolar"
        }
       ],
       "layout": {
        "height": 700,
        "polar": {
         "angularaxis": {
          "showgrid": false,
          "showline": false,
          "ticks": ""
         },
         "domain": {
          "x": [
           0,
           0.3
          ],
          "y": [
           0,
           0.8
          ]
         },
         "radialaxis": {
          "visible": false
         }
        },
        "polar2": {
         "angularaxis": {
          "rotation": 100,
          "showgrid": true,
          "showline": true,
          "ticks": ""
         },
         "domain": {
          "x": [
           0.6,
           1
          ],
          "y": [
           0,
           1
          ]
         },
         "radialaxis": {
          "visible": true
         }
        },
        "template": {
         "data": {
          "bar": [
           {
            "error_x": {
             "color": "#2a3f5f"
            },
            "error_y": {
             "color": "#2a3f5f"
            },
            "marker": {
             "line": {
              "color": "#E5ECF6",
              "width": 0.5
             }
            },
            "type": "bar"
           }
          ],
          "barpolar": [
           {
            "marker": {
             "line": {
              "color": "#E5ECF6",
              "width": 0.5
             }
            },
            "type": "barpolar"
           }
          ],
          "carpet": [
           {
            "aaxis": {
             "endlinecolor": "#2a3f5f",
             "gridcolor": "white",
             "linecolor": "white",
             "minorgridcolor": "white",
             "startlinecolor": "#2a3f5f"
            },
            "baxis": {
             "endlinecolor": "#2a3f5f",
             "gridcolor": "white",
             "linecolor": "white",
             "minorgridcolor": "white",
             "startlinecolor": "#2a3f5f"
            },
            "type": "carpet"
           }
          ],
          "choropleth": [
           {
            "colorbar": {
             "outlinewidth": 0,
             "ticks": ""
            },
            "type": "choropleth"
           }
          ],
          "contour": [
           {
            "colorbar": {
             "outlinewidth": 0,
             "ticks": ""
            },
            "colorscale": [
             [
              0,
              "#0d0887"
             ],
             [
              0.1111111111111111,
              "#46039f"
             ],
             [
              0.2222222222222222,
              "#7201a8"
             ],
             [
              0.3333333333333333,
              "#9c179e"
             ],
             [
              0.4444444444444444,
              "#bd3786"
             ],
             [
              0.5555555555555556,
              "#d8576b"
             ],
             [
              0.6666666666666666,
              "#ed7953"
             ],
             [
              0.7777777777777778,
              "#fb9f3a"
             ],
             [
              0.8888888888888888,
              "#fdca26"
             ],
             [
              1,
              "#f0f921"
             ]
            ],
            "type": "contour"
           }
          ],
          "contourcarpet": [
           {
            "colorbar": {
             "outlinewidth": 0,
             "ticks": ""
            },
            "type": "contourcarpet"
           }
          ],
          "heatmap": [
           {
            "colorbar": {
             "outlinewidth": 0,
             "ticks": ""
            },
            "colorscale": [
             [
              0,
              "#0d0887"
             ],
             [
              0.1111111111111111,
              "#46039f"
             ],
             [
              0.2222222222222222,
              "#7201a8"
             ],
             [
              0.3333333333333333,
              "#9c179e"
             ],
             [
              0.4444444444444444,
              "#bd3786"
             ],
             [
              0.5555555555555556,
              "#d8576b"
             ],
             [
              0.6666666666666666,
              "#ed7953"
             ],
             [
              0.7777777777777778,
              "#fb9f3a"
             ],
             [
              0.8888888888888888,
              "#fdca26"
             ],
             [
              1,
              "#f0f921"
             ]
            ],
            "type": "heatmap"
           }
          ],
          "heatmapgl": [
           {
            "colorbar": {
             "outlinewidth": 0,
             "ticks": ""
            },
            "colorscale": [
             [
              0,
              "#0d0887"
             ],
             [
              0.1111111111111111,
              "#46039f"
             ],
             [
              0.2222222222222222,
              "#7201a8"
             ],
             [
              0.3333333333333333,
              "#9c179e"
             ],
             [
              0.4444444444444444,
              "#bd3786"
             ],
             [
              0.5555555555555556,
              "#d8576b"
             ],
             [
              0.6666666666666666,
              "#ed7953"
             ],
             [
              0.7777777777777778,
              "#fb9f3a"
             ],
             [
              0.8888888888888888,
              "#fdca26"
             ],
             [
              1,
              "#f0f921"
             ]
            ],
            "type": "heatmapgl"
           }
          ],
          "histogram": [
           {
            "marker": {
             "colorbar": {
              "outlinewidth": 0,
              "ticks": ""
             }
            },
            "type": "histogram"
           }
          ],
          "histogram2d": [
           {
            "colorbar": {
             "outlinewidth": 0,
             "ticks": ""
            },
            "colorscale": [
             [
              0,
              "#0d0887"
             ],
             [
              0.1111111111111111,
              "#46039f"
             ],
             [
              0.2222222222222222,
              "#7201a8"
             ],
             [
              0.3333333333333333,
              "#9c179e"
             ],
             [
              0.4444444444444444,
              "#bd3786"
             ],
             [
              0.5555555555555556,
              "#d8576b"
             ],
             [
              0.6666666666666666,
              "#ed7953"
             ],
             [
              0.7777777777777778,
              "#fb9f3a"
             ],
             [
              0.8888888888888888,
              "#fdca26"
             ],
             [
              1,
              "#f0f921"
             ]
            ],
            "type": "histogram2d"
           }
          ],
          "histogram2dcontour": [
           {
            "colorbar": {
             "outlinewidth": 0,
             "ticks": ""
            },
            "colorscale": [
             [
              0,
              "#0d0887"
             ],
             [
              0.1111111111111111,
              "#46039f"
             ],
             [
              0.2222222222222222,
              "#7201a8"
             ],
             [
              0.3333333333333333,
              "#9c179e"
             ],
             [
              0.4444444444444444,
              "#bd3786"
             ],
             [
              0.5555555555555556,
              "#d8576b"
             ],
             [
              0.6666666666666666,
              "#ed7953"
             ],
             [
              0.7777777777777778,
              "#fb9f3a"
             ],
             [
              0.8888888888888888,
              "#fdca26"
             ],
             [
              1,
              "#f0f921"
             ]
            ],
            "type": "histogram2dcontour"
           }
          ],
          "mesh3d": [
           {
            "colorbar": {
             "outlinewidth": 0,
             "ticks": ""
            },
            "type": "mesh3d"
           }
          ],
          "parcoords": [
           {
            "line": {
             "colorbar": {
              "outlinewidth": 0,
              "ticks": ""
             }
            },
            "type": "parcoords"
           }
          ],
          "pie": [
           {
            "automargin": true,
            "type": "pie"
           }
          ],
          "scatter": [
           {
            "marker": {
             "colorbar": {
              "outlinewidth": 0,
              "ticks": ""
             }
            },
            "type": "scatter"
           }
          ],
          "scatter3d": [
           {
            "line": {
             "colorbar": {
              "outlinewidth": 0,
              "ticks": ""
             }
            },
            "marker": {
             "colorbar": {
              "outlinewidth": 0,
              "ticks": ""
             }
            },
            "type": "scatter3d"
           }
          ],
          "scattercarpet": [
           {
            "marker": {
             "colorbar": {
              "outlinewidth": 0,
              "ticks": ""
             }
            },
            "type": "scattercarpet"
           }
          ],
          "scattergeo": [
           {
            "marker": {
             "colorbar": {
              "outlinewidth": 0,
              "ticks": ""
             }
            },
            "type": "scattergeo"
           }
          ],
          "scattergl": [
           {
            "marker": {
             "colorbar": {
              "outlinewidth": 0,
              "ticks": ""
             }
            },
            "type": "scattergl"
           }
          ],
          "scattermapbox": [
           {
            "marker": {
             "colorbar": {
              "outlinewidth": 0,
              "ticks": ""
             }
            },
            "type": "scattermapbox"
           }
          ],
          "scatterpolar": [
           {
            "marker": {
             "colorbar": {
              "outlinewidth": 0,
              "ticks": ""
             }
            },
            "type": "scatterpolar"
           }
          ],
          "scatterpolargl": [
           {
            "marker": {
             "colorbar": {
              "outlinewidth": 0,
              "ticks": ""
             }
            },
            "type": "scatterpolargl"
           }
          ],
          "scatterternary": [
           {
            "marker": {
             "colorbar": {
              "outlinewidth": 0,
              "ticks": ""
             }
            },
            "type": "scatterternary"
           }
          ],
          "surface": [
           {
            "colorbar": {
             "outlinewidth": 0,
             "ticks": ""
            },
            "colorscale": [
             [
              0,
              "#0d0887"
             ],
             [
              0.1111111111111111,
              "#46039f"
             ],
             [
              0.2222222222222222,
              "#7201a8"
             ],
             [
              0.3333333333333333,
              "#9c179e"
             ],
             [
              0.4444444444444444,
              "#bd3786"
             ],
             [
              0.5555555555555556,
              "#d8576b"
             ],
             [
              0.6666666666666666,
              "#ed7953"
             ],
             [
              0.7777777777777778,
              "#fb9f3a"
             ],
             [
              0.8888888888888888,
              "#fdca26"
             ],
             [
              1,
              "#f0f921"
             ]
            ],
            "type": "surface"
           }
          ],
          "table": [
           {
            "cells": {
             "fill": {
              "color": "#EBF0F8"
             },
             "line": {
              "color": "white"
             }
            },
            "header": {
             "fill": {
              "color": "#C8D4E3"
             },
             "line": {
              "color": "white"
             }
            },
            "type": "table"
           }
          ]
         },
         "layout": {
          "annotationdefaults": {
           "arrowcolor": "#2a3f5f",
           "arrowhead": 0,
           "arrowwidth": 1
          },
          "coloraxis": {
           "colorbar": {
            "outlinewidth": 0,
            "ticks": ""
           }
          },
          "colorscale": {
           "diverging": [
            [
             0,
             "#8e0152"
            ],
            [
             0.1,
             "#c51b7d"
            ],
            [
             0.2,
             "#de77ae"
            ],
            [
             0.3,
             "#f1b6da"
            ],
            [
             0.4,
             "#fde0ef"
            ],
            [
             0.5,
             "#f7f7f7"
            ],
            [
             0.6,
             "#e6f5d0"
            ],
            [
             0.7,
             "#b8e186"
            ],
            [
             0.8,
             "#7fbc41"
            ],
            [
             0.9,
             "#4d9221"
            ],
            [
             1,
             "#276419"
            ]
           ],
           "sequential": [
            [
             0,
             "#0d0887"
            ],
            [
             0.1111111111111111,
             "#46039f"
            ],
            [
             0.2222222222222222,
             "#7201a8"
            ],
            [
             0.3333333333333333,
             "#9c179e"
            ],
            [
             0.4444444444444444,
             "#bd3786"
            ],
            [
             0.5555555555555556,
             "#d8576b"
            ],
            [
             0.6666666666666666,
             "#ed7953"
            ],
            [
             0.7777777777777778,
             "#fb9f3a"
            ],
            [
             0.8888888888888888,
             "#fdca26"
            ],
            [
             1,
             "#f0f921"
            ]
           ],
           "sequentialminus": [
            [
             0,
             "#0d0887"
            ],
            [
             0.1111111111111111,
             "#46039f"
            ],
            [
             0.2222222222222222,
             "#7201a8"
            ],
            [
             0.3333333333333333,
             "#9c179e"
            ],
            [
             0.4444444444444444,
             "#bd3786"
            ],
            [
             0.5555555555555556,
             "#d8576b"
            ],
            [
             0.6666666666666666,
             "#ed7953"
            ],
            [
             0.7777777777777778,
             "#fb9f3a"
            ],
            [
             0.8888888888888888,
             "#fdca26"
            ],
            [
             1,
             "#f0f921"
            ]
           ]
          },
          "colorway": [
           "#636efa",
           "#EF553B",
           "#00cc96",
           "#ab63fa",
           "#FFA15A",
           "#19d3f3",
           "#FF6692",
           "#B6E880",
           "#FF97FF",
           "#FECB52"
          ],
          "font": {
           "color": "#2a3f5f"
          },
          "geo": {
           "bgcolor": "white",
           "lakecolor": "white",
           "landcolor": "#E5ECF6",
           "showlakes": true,
           "showland": true,
           "subunitcolor": "white"
          },
          "hoverlabel": {
           "align": "left"
          },
          "hovermode": "closest",
          "mapbox": {
           "style": "light"
          },
          "paper_bgcolor": "white",
          "plot_bgcolor": "#E5ECF6",
          "polar": {
           "angularaxis": {
            "gridcolor": "white",
            "linecolor": "white",
            "ticks": ""
           },
           "bgcolor": "#E5ECF6",
           "radialaxis": {
            "gridcolor": "white",
            "linecolor": "white",
            "ticks": ""
           }
          },
          "scene": {
           "xaxis": {
            "backgroundcolor": "#E5ECF6",
            "gridcolor": "white",
            "gridwidth": 2,
            "linecolor": "white",
            "showbackground": true,
            "ticks": "",
            "zerolinecolor": "white"
           },
           "yaxis": {
            "backgroundcolor": "#E5ECF6",
            "gridcolor": "white",
            "gridwidth": 2,
            "linecolor": "white",
            "showbackground": true,
            "ticks": "",
            "zerolinecolor": "white"
           },
           "zaxis": {
            "backgroundcolor": "#E5ECF6",
            "gridcolor": "white",
            "gridwidth": 2,
            "linecolor": "white",
            "showbackground": true,
            "ticks": "",
            "zerolinecolor": "white"
           }
          },
          "shapedefaults": {
           "line": {
            "color": "#2a3f5f"
           }
          },
          "ternary": {
           "aaxis": {
            "gridcolor": "white",
            "linecolor": "white",
            "ticks": ""
           },
           "baxis": {
            "gridcolor": "white",
            "linecolor": "white",
            "ticks": ""
           },
           "bgcolor": "#E5ECF6",
           "caxis": {
            "gridcolor": "white",
            "linecolor": "white",
            "ticks": ""
           }
          },
          "title": {
           "x": 0.05
          },
          "xaxis": {
           "automargin": true,
           "gridcolor": "white",
           "linecolor": "white",
           "ticks": "",
           "title": {
            "standoff": 15
           },
           "zerolinecolor": "white",
           "zerolinewidth": 2
          },
          "yaxis": {
           "automargin": true,
           "gridcolor": "white",
           "linecolor": "white",
           "ticks": "",
           "title": {
            "standoff": 15
           },
           "zerolinecolor": "white",
           "zerolinewidth": 2
          }
         }
        },
        "title": {
         "font": {
          "family": "Droid Serif",
          "size": 20
         },
         "text": "DIAGRAM of the CAUSES or MORTALITY in the ARMY in the EAST",
         "xanchor": "left"
        },
        "width": 1000
       }
      },
      "text/html": [
       "<div>\n",
       "        \n",
       "        \n",
       "            <div id=\"01a7aca3-60f2-40ef-bb9d-72043943c021\" class=\"plotly-graph-div\" style=\"height:700px; width:1000px;\"></div>\n",
       "            <script type=\"text/javascript\">\n",
       "                require([\"plotly\"], function(Plotly) {\n",
       "                    window.PLOTLYENV=window.PLOTLYENV || {};\n",
       "                    \n",
       "                if (document.getElementById(\"01a7aca3-60f2-40ef-bb9d-72043943c021\")) {\n",
       "                    Plotly.newPlot(\n",
       "                        '01a7aca3-60f2-40ef-bb9d-72043943c021',\n",
       "                        [{\"marker\": {\"color\": \"#FFAA70\", \"line\": {\"color\": \"black\", \"width\": 1}}, \"name\": \"All other causes\", \"opacity\": 0.8, \"r\": [453.59999999999997, 505.4, 240.79999999999998, 79.8, 51.8, 43.4, 46.199999999999996, 35.0, 28.0, 25.2, 44.8, 39.199999999999996], \"showlegend\": true, \"subplot\": \"polar\", \"text\": [\"Apr 1854\", \"May 1854\", \"Jun 1854\", \"Jul 1854\", \"Aug 1854\", \"Sep 1854\", \"Oct 1854\", \"Nov 1854\", \"Dec 1854\", \"Jan 1855\", \"Feb 1855\", \"Mar 1855\"], \"theta\": [\"Jan 1855\", \"Feb 1855\", \"Mar 1855\", \"Apr 1855\", \"May 1855\", \"Jun 1855\", \"Jul 1855\", \"Aug 1855\", \"Sep 1855\", \"Oct 1855\", \"Nov 1855\", \"Dec 1855\"], \"thetaunit\": \"radians\", \"type\": \"barpolar\"}, {\"marker\": {\"color\": \"#709BFF\", \"line\": {\"color\": \"black\", \"width\": 1}}, \"name\": \"Wounds & injuries\", \"opacity\": 0.8, \"r\": [116.19999999999999, 58.8, 44.8, 67.19999999999999, 68.6, 292.59999999999997, 187.6, 229.6, 386.4, 74.19999999999999, 46.199999999999996, 25.2], \"showlegend\": true, \"subplot\": \"polar\", \"theta\": [\"Jan 1855\", \"Feb 1855\", \"Mar 1855\", \"Apr 1855\", \"May 1855\", \"Jun 1855\", \"Jul 1855\", \"Aug 1855\", \"Sep 1855\", \"Oct 1855\", \"Nov 1855\", \"Dec 1855\"], \"thetaunit\": \"radians\", \"type\": \"barpolar\"}, {\"marker\": {\"color\": \"#E4FF87\", \"line\": {\"color\": \"black\", \"width\": 1}}, \"name\": \"Zymotic diseases\", \"opacity\": 0.8, \"r\": [3865.3999999999996, 2968.0, 1687.0, 667.8, 711.1999999999999, 1122.8, 534.8, 676.1999999999999, 264.59999999999997, 179.2, 249.2, 127.39999999999999], \"showlegend\": true, \"subplot\": \"polar\", \"text\": [\"Apr 1854\", \"May 1854\", \"Jun 1854\", \"Jul 1854\", \"Aug 1854\", \"Sep 1854\", \"Oct 1854\", \"Nov 1854\", \"Dec 1854\", \"Jan 1855\", \"Feb 1855\", \"Mar 1855\"], \"theta\": [\"Jan 1855\", \"Feb 1855\", \"Mar 1855\", \"Apr 1855\", \"May 1855\", \"Jun 1855\", \"Jul 1855\", \"Aug 1855\", \"Sep 1855\", \"Oct 1855\", \"Nov 1855\", \"Dec 1855\"], \"thetaunit\": \"radians\", \"type\": \"barpolar\"}, {\"marker\": {\"color\": \"#FFAA70\", \"line\": {\"color\": \"black\", \"width\": 1}}, \"name\": \"All other causes\", \"opacity\": 0.4, \"r\": [324, 361, 172, 57, 37, 31, 33, 25, 20, 18, 32, 28], \"showlegend\": true, \"subplot\": \"polar2\", \"text\": [\"Apr 1854\", \"May 1854\", \"Jun 1854\", \"Jul 1854\", \"Aug 1854\", \"Sep 1854\", \"Oct 1854\", \"Nov 1854\", \"Dec 1854\", \"Jan 1855\", \"Feb 1855\", \"Mar 1855\"], \"theta\": [\"Jan 1855\", \"Feb 1855\", \"Mar 1855\", \"Apr 1855\", \"May 1855\", \"Jun 1855\", \"Jul 1855\", \"Aug 1855\", \"Sep 1855\", \"Oct 1855\", \"Nov 1855\", \"Dec 1855\"], \"type\": \"barpolar\"}, {\"marker\": {\"color\": \"#709BFF\", \"line\": {\"color\": \"black\", \"width\": 1}}, \"name\": \"Wounds & injuries\", \"opacity\": 0.4, \"r\": [83, 42, 32, 48, 49, 209, 134, 164, 276, 53, 33, 18], \"showlegend\": true, \"subplot\": \"polar2\", \"text\": [\"Apr 1854\", \"May 1854\", \"Jun 1854\", \"Jul 1854\", \"Aug 1854\", \"Sep 1854\", \"Oct 1854\", \"Nov 1854\", \"Dec 1854\", \"Jan 1855\", \"Feb 1855\", \"Mar 1855\"], \"theta\": [\"Jan 1855\", \"Feb 1855\", \"Mar 1855\", \"Apr 1855\", \"May 1855\", \"Jun 1855\", \"Jul 1855\", \"Aug 1855\", \"Sep 1855\", \"Oct 1855\", \"Nov 1855\", \"Dec 1855\"], \"type\": \"barpolar\"}, {\"marker\": {\"color\": \"#E4FF87\", \"line\": {\"color\": \"black\", \"width\": 1}}, \"name\": \"Zymotic diseases\", \"opacity\": 0.4, \"r\": [2761, 2120, 1205, 477, 508, 802, 382, 483, 189, 128, 178, 91], \"showlegend\": true, \"subplot\": \"polar2\", \"text\": [\"Apr 1854\", \"May 1854\", \"Jun 1854\", \"Jul 1854\", \"Aug 1854\", \"Sep 1854\", \"Oct 1854\", \"Nov 1854\", \"Dec 1854\", \"Jan 1855\", \"Feb 1855\", \"Mar 1855\"], \"theta\": [\"Jan 1855\", \"Feb 1855\", \"Mar 1855\", \"Apr 1855\", \"May 1855\", \"Jun 1855\", \"Jul 1855\", \"Aug 1855\", \"Sep 1855\", \"Oct 1855\", \"Nov 1855\", \"Dec 1855\"], \"type\": \"barpolar\"}],\n",
       "                        {\"height\": 700, \"polar\": {\"angularaxis\": {\"showgrid\": false, \"showline\": false, \"ticks\": \"\"}, \"domain\": {\"x\": [0, 0.3], \"y\": [0, 0.8]}, \"radialaxis\": {\"visible\": false}}, \"polar2\": {\"angularaxis\": {\"rotation\": 100, \"showgrid\": true, \"showline\": true, \"ticks\": \"\"}, \"domain\": {\"x\": [0.6, 1], \"y\": [0.0, 1.0]}, \"radialaxis\": {\"visible\": true}}, \"template\": {\"data\": {\"bar\": [{\"error_x\": {\"color\": \"#2a3f5f\"}, \"error_y\": {\"color\": \"#2a3f5f\"}, \"marker\": {\"line\": {\"color\": \"#E5ECF6\", \"width\": 0.5}}, \"type\": \"bar\"}], \"barpolar\": [{\"marker\": {\"line\": {\"color\": \"#E5ECF6\", \"width\": 0.5}}, \"type\": \"barpolar\"}], \"carpet\": [{\"aaxis\": {\"endlinecolor\": \"#2a3f5f\", \"gridcolor\": \"white\", \"linecolor\": \"white\", \"minorgridcolor\": \"white\", \"startlinecolor\": \"#2a3f5f\"}, \"baxis\": {\"endlinecolor\": \"#2a3f5f\", \"gridcolor\": \"white\", \"linecolor\": \"white\", \"minorgridcolor\": \"white\", \"startlinecolor\": \"#2a3f5f\"}, \"type\": \"carpet\"}], \"choropleth\": [{\"colorbar\": {\"outlinewidth\": 0, \"ticks\": \"\"}, \"type\": \"choropleth\"}], \"contour\": [{\"colorbar\": {\"outlinewidth\": 0, \"ticks\": \"\"}, \"colorscale\": [[0.0, \"#0d0887\"], [0.1111111111111111, \"#46039f\"], [0.2222222222222222, \"#7201a8\"], [0.3333333333333333, \"#9c179e\"], [0.4444444444444444, \"#bd3786\"], [0.5555555555555556, \"#d8576b\"], [0.6666666666666666, \"#ed7953\"], [0.7777777777777778, \"#fb9f3a\"], [0.8888888888888888, \"#fdca26\"], [1.0, \"#f0f921\"]], \"type\": \"contour\"}], \"contourcarpet\": [{\"colorbar\": {\"outlinewidth\": 0, \"ticks\": \"\"}, \"type\": \"contourcarpet\"}], \"heatmap\": [{\"colorbar\": {\"outlinewidth\": 0, \"ticks\": \"\"}, \"colorscale\": [[0.0, \"#0d0887\"], [0.1111111111111111, \"#46039f\"], [0.2222222222222222, \"#7201a8\"], [0.3333333333333333, \"#9c179e\"], [0.4444444444444444, \"#bd3786\"], [0.5555555555555556, \"#d8576b\"], [0.6666666666666666, \"#ed7953\"], [0.7777777777777778, \"#fb9f3a\"], [0.8888888888888888, \"#fdca26\"], [1.0, \"#f0f921\"]], \"type\": \"heatmap\"}], \"heatmapgl\": [{\"colorbar\": {\"outlinewidth\": 0, \"ticks\": \"\"}, \"colorscale\": [[0.0, \"#0d0887\"], [0.1111111111111111, \"#46039f\"], [0.2222222222222222, \"#7201a8\"], [0.3333333333333333, \"#9c179e\"], [0.4444444444444444, \"#bd3786\"], [0.5555555555555556, \"#d8576b\"], [0.6666666666666666, \"#ed7953\"], [0.7777777777777778, \"#fb9f3a\"], [0.8888888888888888, \"#fdca26\"], [1.0, \"#f0f921\"]], \"type\": \"heatmapgl\"}], \"histogram\": [{\"marker\": {\"colorbar\": {\"outlinewidth\": 0, \"ticks\": \"\"}}, \"type\": \"histogram\"}], \"histogram2d\": [{\"colorbar\": {\"outlinewidth\": 0, \"ticks\": \"\"}, \"colorscale\": [[0.0, \"#0d0887\"], [0.1111111111111111, \"#46039f\"], [0.2222222222222222, \"#7201a8\"], [0.3333333333333333, \"#9c179e\"], [0.4444444444444444, \"#bd3786\"], [0.5555555555555556, \"#d8576b\"], [0.6666666666666666, \"#ed7953\"], [0.7777777777777778, \"#fb9f3a\"], [0.8888888888888888, \"#fdca26\"], [1.0, \"#f0f921\"]], \"type\": \"histogram2d\"}], \"histogram2dcontour\": [{\"colorbar\": {\"outlinewidth\": 0, \"ticks\": \"\"}, \"colorscale\": [[0.0, \"#0d0887\"], [0.1111111111111111, \"#46039f\"], [0.2222222222222222, \"#7201a8\"], [0.3333333333333333, \"#9c179e\"], [0.4444444444444444, \"#bd3786\"], [0.5555555555555556, \"#d8576b\"], [0.6666666666666666, \"#ed7953\"], [0.7777777777777778, \"#fb9f3a\"], [0.8888888888888888, \"#fdca26\"], [1.0, \"#f0f921\"]], \"type\": \"histogram2dcontour\"}], \"mesh3d\": [{\"colorbar\": {\"outlinewidth\": 0, \"ticks\": \"\"}, \"type\": \"mesh3d\"}], \"parcoords\": [{\"line\": {\"colorbar\": {\"outlinewidth\": 0, \"ticks\": \"\"}}, \"type\": \"parcoords\"}], \"pie\": [{\"automargin\": true, \"type\": \"pie\"}], \"scatter\": [{\"marker\": {\"colorbar\": {\"outlinewidth\": 0, \"ticks\": \"\"}}, \"type\": \"scatter\"}], \"scatter3d\": [{\"line\": {\"colorbar\": {\"outlinewidth\": 0, \"ticks\": \"\"}}, \"marker\": {\"colorbar\": {\"outlinewidth\": 0, \"ticks\": \"\"}}, \"type\": \"scatter3d\"}], \"scattercarpet\": [{\"marker\": {\"colorbar\": {\"outlinewidth\": 0, \"ticks\": \"\"}}, \"type\": \"scattercarpet\"}], \"scattergeo\": [{\"marker\": {\"colorbar\": {\"outlinewidth\": 0, \"ticks\": \"\"}}, \"type\": \"scattergeo\"}], \"scattergl\": [{\"marker\": {\"colorbar\": {\"outlinewidth\": 0, \"ticks\": \"\"}}, \"type\": \"scattergl\"}], \"scattermapbox\": [{\"marker\": {\"colorbar\": {\"outlinewidth\": 0, \"ticks\": \"\"}}, \"type\": \"scattermapbox\"}], \"scatterpolar\": [{\"marker\": {\"colorbar\": {\"outlinewidth\": 0, \"ticks\": \"\"}}, \"type\": \"scatterpolar\"}], \"scatterpolargl\": [{\"marker\": {\"colorbar\": {\"outlinewidth\": 0, \"ticks\": \"\"}}, \"type\": \"scatterpolargl\"}], \"scatterternary\": [{\"marker\": {\"colorbar\": {\"outlinewidth\": 0, \"ticks\": \"\"}}, \"type\": \"scatterternary\"}], \"surface\": [{\"colorbar\": {\"outlinewidth\": 0, \"ticks\": \"\"}, \"colorscale\": [[0.0, \"#0d0887\"], [0.1111111111111111, \"#46039f\"], [0.2222222222222222, \"#7201a8\"], [0.3333333333333333, \"#9c179e\"], [0.4444444444444444, \"#bd3786\"], [0.5555555555555556, \"#d8576b\"], [0.6666666666666666, \"#ed7953\"], [0.7777777777777778, \"#fb9f3a\"], [0.8888888888888888, \"#fdca26\"], [1.0, \"#f0f921\"]], \"type\": \"surface\"}], \"table\": [{\"cells\": {\"fill\": {\"color\": \"#EBF0F8\"}, \"line\": {\"color\": \"white\"}}, \"header\": {\"fill\": {\"color\": \"#C8D4E3\"}, \"line\": {\"color\": \"white\"}}, \"type\": \"table\"}]}, \"layout\": {\"annotationdefaults\": {\"arrowcolor\": \"#2a3f5f\", \"arrowhead\": 0, \"arrowwidth\": 1}, \"coloraxis\": {\"colorbar\": {\"outlinewidth\": 0, \"ticks\": \"\"}}, \"colorscale\": {\"diverging\": [[0, \"#8e0152\"], [0.1, \"#c51b7d\"], [0.2, \"#de77ae\"], [0.3, \"#f1b6da\"], [0.4, \"#fde0ef\"], [0.5, \"#f7f7f7\"], [0.6, \"#e6f5d0\"], [0.7, \"#b8e186\"], [0.8, \"#7fbc41\"], [0.9, \"#4d9221\"], [1, \"#276419\"]], \"sequential\": [[0.0, \"#0d0887\"], [0.1111111111111111, \"#46039f\"], [0.2222222222222222, \"#7201a8\"], [0.3333333333333333, \"#9c179e\"], [0.4444444444444444, \"#bd3786\"], [0.5555555555555556, \"#d8576b\"], [0.6666666666666666, \"#ed7953\"], [0.7777777777777778, \"#fb9f3a\"], [0.8888888888888888, \"#fdca26\"], [1.0, \"#f0f921\"]], \"sequentialminus\": [[0.0, \"#0d0887\"], [0.1111111111111111, \"#46039f\"], [0.2222222222222222, \"#7201a8\"], [0.3333333333333333, \"#9c179e\"], [0.4444444444444444, \"#bd3786\"], [0.5555555555555556, \"#d8576b\"], [0.6666666666666666, \"#ed7953\"], [0.7777777777777778, \"#fb9f3a\"], [0.8888888888888888, \"#fdca26\"], [1.0, \"#f0f921\"]]}, \"colorway\": [\"#636efa\", \"#EF553B\", \"#00cc96\", \"#ab63fa\", \"#FFA15A\", \"#19d3f3\", \"#FF6692\", \"#B6E880\", \"#FF97FF\", \"#FECB52\"], \"font\": {\"color\": \"#2a3f5f\"}, \"geo\": {\"bgcolor\": \"white\", \"lakecolor\": \"white\", \"landcolor\": \"#E5ECF6\", \"showlakes\": true, \"showland\": true, \"subunitcolor\": \"white\"}, \"hoverlabel\": {\"align\": \"left\"}, \"hovermode\": \"closest\", \"mapbox\": {\"style\": \"light\"}, \"paper_bgcolor\": \"white\", \"plot_bgcolor\": \"#E5ECF6\", \"polar\": {\"angularaxis\": {\"gridcolor\": \"white\", \"linecolor\": \"white\", \"ticks\": \"\"}, \"bgcolor\": \"#E5ECF6\", \"radialaxis\": {\"gridcolor\": \"white\", \"linecolor\": \"white\", \"ticks\": \"\"}}, \"scene\": {\"xaxis\": {\"backgroundcolor\": \"#E5ECF6\", \"gridcolor\": \"white\", \"gridwidth\": 2, \"linecolor\": \"white\", \"showbackground\": true, \"ticks\": \"\", \"zerolinecolor\": \"white\"}, \"yaxis\": {\"backgroundcolor\": \"#E5ECF6\", \"gridcolor\": \"white\", \"gridwidth\": 2, \"linecolor\": \"white\", \"showbackground\": true, \"ticks\": \"\", \"zerolinecolor\": \"white\"}, \"zaxis\": {\"backgroundcolor\": \"#E5ECF6\", \"gridcolor\": \"white\", \"gridwidth\": 2, \"linecolor\": \"white\", \"showbackground\": true, \"ticks\": \"\", \"zerolinecolor\": \"white\"}}, \"shapedefaults\": {\"line\": {\"color\": \"#2a3f5f\"}}, \"ternary\": {\"aaxis\": {\"gridcolor\": \"white\", \"linecolor\": \"white\", \"ticks\": \"\"}, \"baxis\": {\"gridcolor\": \"white\", \"linecolor\": \"white\", \"ticks\": \"\"}, \"bgcolor\": \"#E5ECF6\", \"caxis\": {\"gridcolor\": \"white\", \"linecolor\": \"white\", \"ticks\": \"\"}}, \"title\": {\"x\": 0.05}, \"xaxis\": {\"automargin\": true, \"gridcolor\": \"white\", \"linecolor\": \"white\", \"ticks\": \"\", \"title\": {\"standoff\": 15}, \"zerolinecolor\": \"white\", \"zerolinewidth\": 2}, \"yaxis\": {\"automargin\": true, \"gridcolor\": \"white\", \"linecolor\": \"white\", \"ticks\": \"\", \"title\": {\"standoff\": 15}, \"zerolinecolor\": \"white\", \"zerolinewidth\": 2}}}, \"title\": {\"font\": {\"family\": \"Droid Serif\", \"size\": 20}, \"text\": \"DIAGRAM of the CAUSES or MORTALITY in the ARMY in the EAST\", \"xanchor\": \"left\"}, \"width\": 1000},\n",
       "                        {\"scrollZoom\": true, \"responsive\": true}\n",
       "                    ).then(function(){\n",
       "                            \n",
       "var gd = document.getElementById('01a7aca3-60f2-40ef-bb9d-72043943c021');\n",
       "var x = new MutationObserver(function (mutations, observer) {{\n",
       "        var display = window.getComputedStyle(gd).display;\n",
       "        if (!display || display === 'none') {{\n",
       "            console.log([gd, 'removed!']);\n",
       "            Plotly.purge(gd);\n",
       "            observer.disconnect();\n",
       "        }}\n",
       "}});\n",
       "\n",
       "// Listen for the removal of the full notebook cells\n",
       "var notebookContainer = gd.closest('#notebook-container');\n",
       "if (notebookContainer) {{\n",
       "    x.observe(notebookContainer, {childList: true});\n",
       "}}\n",
       "\n",
       "// Listen for the clearing of the current output cell\n",
       "var outputEl = gd.closest('.output');\n",
       "if (outputEl) {{\n",
       "    x.observe(outputEl, {childList: true});\n",
       "}}\n",
       "\n",
       "                        })\n",
       "                };\n",
       "                });\n",
       "            </script>\n",
       "        </div>"
      ]
     },
     "metadata": {},
     "output_type": "display_data"
    }
   ],
   "source": [
    "#import numpy as np\n",
    "import pandas as pd\n",
    "import plotly\n",
    "plotly.offline.init_notebook_mode(connected=True)\n",
    "import plotly.offline as py\n",
    "import plotly.graph_objs as go\n",
    "from plotly import tools\n",
    "from plotly.subplots import make_subplots\n",
    "\n",
    "nightingale = pd.read_csv('/users/siqiwei/Desktop/Data-Visualisation-CS7DS4-/nightingale-data.csv', header=1)\n",
    "\n",
    "fig = make_subplots(rows=1, cols=2, specs=[[{'type': 'polar'}]*2]*1)\n",
    "nightingale_month_A = nightingale.Month[9:21]\n",
    "#nightingale_month_B = nightingale.Month[0:12]\n",
    "\n",
    "trace1A = go.Barpolar(\n",
    "    r = 1.4*nightingale['All other causes'][9:21],\n",
    "    theta = nightingale_month_A,\n",
    "    marker_color = \"#FFAA70\", \n",
    "    marker_line_color=\"black\",\n",
    "    marker_line_width=1,\n",
    "    opacity=0.8,\n",
    "    thetaunit = \"radians\",\n",
    "    name = 'All other causes', \n",
    "    showlegend = True,\n",
    "    subplot = 'polar1',\n",
    "    text = nightingale['Month'][0:12]\n",
    ")\n",
    "\n",
    "trace1B = go.Barpolar(\n",
    "    r = 1.4*nightingale['Wounds & injuries'][9:21],\n",
    "    theta = nightingale_month_A,\n",
    "    marker_color = \"#709BFF\", \n",
    "    marker_line_color=\"black\",\n",
    "    marker_line_width=1,\n",
    "    opacity=0.8,\n",
    "    thetaunit = \"radians\",\n",
    "    name = 'Wounds & injuries', \n",
    "    showlegend = True,\n",
    "    subplot = 'polar1'\n",
    ")\n",
    "\n",
    "trace1C = go.Barpolar(\n",
    "    r = 1.4*nightingale['Zymotic diseases'][9:21],\n",
    "    theta = nightingale_month_A,\n",
    "    marker_color = \"#E4FF87\", \n",
    "    marker_line_color=\"black\",\n",
    "    marker_line_width=1,\n",
    "    opacity=0.8,   \n",
    "    thetaunit = \"radians\",\n",
    "    name = 'Zymotic diseases', \n",
    "    showlegend = True,\n",
    "    subplot = 'polar1',\n",
    "    text = nightingale['Month'][0:12]\n",
    ")\n",
    "trace2A = go.Barpolar(\n",
    "    r = nightingale['All other causes'][9:21],\n",
    "    theta = nightingale_month_A,\n",
    "    marker_color = \"#FFAA70\", \n",
    "    marker_line_color=\"black\",\n",
    "    marker_line_width=1,\n",
    "    opacity=0.4,\n",
    "    \n",
    "    name = 'All other causes', \n",
    "    showlegend = True,\n",
    "    subplot = 'polar2',\n",
    "    text = nightingale['Month'][0:12]\n",
    ")\n",
    "\n",
    "trace2B = go.Barpolar(\n",
    "    r = nightingale['Wounds & injuries'][9:21],\n",
    "    theta = nightingale_month_A,\n",
    "    marker_color = \"#709BFF\", \n",
    "    marker_line_color=\"black\",\n",
    "    marker_line_width=1,\n",
    "    opacity=0.4,\n",
    "    \n",
    "    name = 'Wounds & injuries', \n",
    "    text = nightingale['Month'][0:12],\n",
    "    showlegend = True,\n",
    "    subplot = 'polar2'\n",
    ")\n",
    "\n",
    "trace2C = go.Barpolar(\n",
    "    r = nightingale['Zymotic diseases'][9:21],\n",
    "    theta = nightingale_month_A,\n",
    "    marker_color = \"#E4FF87\", \n",
    "    marker_line_color=\"black\",\n",
    "    marker_line_width=1,\n",
    "    opacity=0.4,   \n",
    "    name = 'Zymotic diseases', \n",
    "    showlegend = True,\n",
    "    subplot = 'polar2',\n",
    "    text = nightingale['Month'][0:12]\n",
    ")\n",
    "\n",
    "data1 = [trace1A, trace1B, trace1C,trace2A, trace2B, trace2C]\n",
    "for x in data1:\n",
    "    fig.add_trace(x)\n",
    "    \n",
    "fig.update_layout(\n",
    "    width = 1000,\n",
    "    height = 700,\n",
    "    title = dict(\n",
    "        text = 'DIAGRAM of the CAUSES or MORTALITY in the ARMY in the EAST',\n",
    "        font = dict(\n",
    "            size = 20,\n",
    "            family = \"Droid Serif\"\n",
    "        ),\n",
    "        xanchor = \"left\"\n",
    "    ), \n",
    "    polar1 = dict(\n",
    "      domain = dict(\n",
    "        x = [0, 0.3],\n",
    "        y = [0, 0.8]\n",
    "      ),\n",
    "      radialaxis = dict(\n",
    "          visible = False,\n",
    "          \n",
    "      ),\n",
    "      angularaxis = dict(\n",
    "          showline = False,\n",
    "          showgrid = False,\n",
    "          # showticklabels=False,\n",
    "          ticks = \"\",\n",
    "        \n",
    "      )\n",
    "    ),\n",
    "    \n",
    "    polar2 = dict(\n",
    "      domain = dict(\n",
    "        x = [0.6, 1],\n",
    "        y = [0, 1]\n",
    "      ),\n",
    "      radialaxis = dict(\n",
    "          visible = True\n",
    "      ),\n",
    "      angularaxis = dict(\n",
    "          showline = True,\n",
    "          showgrid = True,\n",
    "          ticks = \"\",\n",
    "          rotation = 100, \n",
    "      )  \n",
    "    )\n",
    ")\n",
    "\n",
    "fig.show(config={'scrollZoom': True})"
   ]
  },
  {
   "cell_type": "code",
   "execution_count": 62,
   "metadata": {},
   "outputs": [
    {
     "data": {
      "text/plain": [
       "0     Apr 1854\n",
       "1     May 1854\n",
       "2     Jun 1854\n",
       "3     Jul 1854\n",
       "4     Aug 1854\n",
       "5     Sep 1854\n",
       "6     Oct 1854\n",
       "7     Nov 1854\n",
       "8     Dec 1854\n",
       "9     Jan 1855\n",
       "10    Feb 1855\n",
       "11    Mar 1855\n",
       "Name: Month, dtype: object"
      ]
     },
     "execution_count": 62,
     "metadata": {},
     "output_type": "execute_result"
    }
   ],
   "source": []
  },
  {
   "cell_type": "code",
   "execution_count": null,
   "metadata": {},
   "outputs": [],
   "source": []
  },
  {
   "cell_type": "code",
   "execution_count": null,
   "metadata": {},
   "outputs": [],
   "source": []
  },
  {
   "cell_type": "code",
   "execution_count": null,
   "metadata": {},
   "outputs": [],
   "source": []
  }
 ],
 "metadata": {
  "kernelspec": {
   "display_name": "Python 2",
   "language": "python",
   "name": "python2"
  },
  "language_info": {
   "codemirror_mode": {
    "name": "ipython",
    "version": 2
   },
   "file_extension": ".py",
   "mimetype": "text/x-python",
   "name": "python",
   "nbconvert_exporter": "python",
   "pygments_lexer": "ipython2",
   "version": "2.7.15"
  }
 },
 "nbformat": 4,
 "nbformat_minor": 2
}
