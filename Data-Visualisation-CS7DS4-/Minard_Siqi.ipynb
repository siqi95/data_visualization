{
 "cells": [
  {
   "cell_type": "code",
   "execution_count": 92,
   "metadata": {},
   "outputs": [
    {
     "data": {
      "text/html": [
       "        <script type=\"text/javascript\">\n",
       "        window.PlotlyConfig = {MathJaxConfig: 'local'};\n",
       "        if (window.MathJax) {MathJax.Hub.Config({SVG: {font: \"STIX-Web\"}});}\n",
       "        if (typeof require !== 'undefined') {\n",
       "        require.undef(\"plotly\");\n",
       "        requirejs.config({\n",
       "            paths: {\n",
       "                'plotly': ['https://cdn.plot.ly/plotly-latest.min']\n",
       "            }\n",
       "        });\n",
       "        require(['plotly'], function(Plotly) {\n",
       "            window._Plotly = Plotly;\n",
       "        });\n",
       "        }\n",
       "        </script>\n",
       "        "
      ]
     },
     "metadata": {},
     "output_type": "display_data"
    },
    {
     "data": {
      "application/vnd.plotly.v1+json": {
       "config": {
        "plotlyServerURL": "https://plot.ly"
       },
       "data": [
        {
         "marker": {
          "color": "black",
          "size": 8
         },
         "mode": "markers+text",
         "showlegend": false,
         "text": [
          "Kowno",
          "Wilna",
          "Smorgoni",
          "Molodexno",
          "Gloubokoe",
          "Minsk",
          "Studienska",
          "Polotzk",
          "Bobr",
          "Witebsk",
          "Orscha",
          "Mohilow",
          "Smolensk",
          "Dorogobouge",
          "Wixma",
          "Chjat",
          "Mojaisk",
          "Moscou",
          "Tarantino",
          "Malo-jarosewli",
          null,
          null,
          null,
          null,
          null,
          null,
          null,
          null,
          null,
          null,
          null,
          null,
          null,
          null,
          null,
          null,
          null,
          null,
          null,
          null,
          null,
          null,
          null,
          null,
          null,
          null,
          null,
          null
         ],
         "textposition": "middle right",
         "type": "scatter",
         "x": [
          24,
          25.3,
          26.4,
          26.8,
          27.7,
          27.6,
          28.5,
          28.7,
          29.2,
          30.2,
          30.4,
          30.4,
          32,
          33.2,
          34.3,
          34.4,
          36,
          37.6,
          36.6,
          36.5,
          null,
          null,
          null,
          null,
          null,
          null,
          null,
          null,
          null,
          null,
          null,
          null,
          null,
          null,
          null,
          null,
          null,
          null,
          null,
          null,
          null,
          null,
          null,
          null,
          null,
          null,
          null,
          null
         ],
         "xaxis": "x",
         "y": [
          55,
          54.7,
          54.4,
          54.3,
          55.2,
          53.9,
          54.3,
          55.5,
          54.4,
          55.3,
          54.5,
          53.9,
          54.8,
          54.9,
          55.2,
          55.5,
          55.5,
          55.8,
          55.3,
          55,
          null,
          null,
          null,
          null,
          null,
          null,
          null,
          null,
          null,
          null,
          null,
          null,
          null,
          null,
          null,
          null,
          null,
          null,
          null,
          null,
          null,
          null,
          null,
          null,
          null,
          null,
          null,
          null
         ],
         "yaxis": "y"
        },
        {
         "line": {
          "color": "#8c564b",
          "width": 10
         },
         "mode": "lines",
         "name": "ADVANCE",
         "type": "scatter",
         "x": [
          24,
          24.5,
          25.5,
          26,
          27,
          28,
          28.5,
          29,
          30,
          30.3,
          32,
          33.2,
          34.4,
          35.5,
          36
         ],
         "xaxis": "x",
         "y": [
          54.9,
          55,
          54.5,
          54.7,
          54.8,
          54.9,
          55,
          55.1,
          55.2,
          55.3,
          54.8,
          54.9,
          55.5,
          55.4,
          55.5
         ],
         "yaxis": "y"
        },
        {
         "line": {
          "color": "#8c564b",
          "width": 10
         },
         "mode": "lines",
         "showlegend": false,
         "textposition": "bottom center",
         "type": "scatter",
         "x": [
          24,
          24.5,
          25.5,
          26.6,
          27.4
         ],
         "xaxis": "x",
         "y": [
          55.1,
          55.2,
          54.7,
          55.7,
          55.6
         ],
         "yaxis": "y"
        },
        {
         "line": {
          "color": "#8c564b",
          "width": 8
         },
         "mode": "lines",
         "showlegend": false,
         "textposition": "bottom center",
         "type": "scatter",
         "x": [
          24,
          24.5
         ],
         "xaxis": "x",
         "y": [
          55.2,
          55.3
         ],
         "yaxis": "y"
        },
        {
         "line": {
          "color": "#D3D3D3",
          "width": 40
         },
         "mode": "markers+lines",
         "name": "SURVIOURS_HIGH",
         "text": [
          340000,
          340000,
          340000,
          320000,
          300000,
          280000,
          240000
         ],
         "textposition": "bottom center",
         "type": "scatter",
         "x": [
          24,
          24.5,
          25.5,
          26,
          27,
          28,
          28.5
         ],
         "xaxis": "x",
         "y": [
          54.9,
          55,
          54.5,
          54.7,
          54.8,
          54.9,
          55
         ],
         "yaxis": "y"
        },
        {
         "line": {
          "color": "#D3D3D3",
          "width": 25
         },
         "mode": "markers+lines",
         "name": "SURVIOURS_MID",
         "text": [
          210000,
          180000,
          175000,
          145000,
          140000,
          127100,
          100000,
          100000
         ],
         "textposition": "bottom center",
         "type": "scatter",
         "x": [
          29,
          30,
          30.3,
          32,
          33.2,
          34.4,
          35.5,
          36
         ],
         "xaxis": "x",
         "y": [
          55.1,
          55.2,
          55.3,
          54.8,
          54.9,
          55.5,
          55.4,
          55.5
         ],
         "yaxis": "y"
        },
        {
         "line": {
          "color": "#D3D3D3",
          "width": 10
         },
         "mode": "markers+lines",
         "showlegend": false,
         "text": [
          60000,
          60000,
          60000
         ],
         "textposition": "bottom center",
         "type": "scatter",
         "x": [
          24,
          24.5,
          25.5
         ],
         "xaxis": "x",
         "y": [
          55.1,
          55.2,
          54.7
         ],
         "yaxis": "y"
        },
        {
         "line": {
          "color": "#D3D3D3",
          "width": 5
         },
         "mode": "markers+lines",
         "name": "SURVIOURS_LOW",
         "text": [
          60000,
          60000,
          60000
         ],
         "textposition": "bottom center",
         "type": "scatter",
         "x": [
          26.6,
          27.4,
          24,
          24.5
         ],
         "xaxis": "x",
         "y": [
          55.7,
          55.6,
          55.2,
          55.3
         ],
         "yaxis": "y"
        },
        {
         "line": {
          "color": "#7e9cdf",
          "width": 8
         },
         "mode": "lines",
         "name": "RETREAT",
         "type": "scatter",
         "x": [
          28.7,
          29.2,
          28.5,
          28.3,
          27.5,
          26.8,
          26.4,
          24.6,
          24.4,
          24.2,
          24.1
         ],
         "xaxis": "x",
         "y": [
          55.5,
          54.3,
          54.2,
          54.3,
          54.5,
          54.3,
          54.4,
          54.5,
          54.4,
          54.4,
          54.3
         ],
         "yaxis": "y"
        },
        {
         "line": {
          "color": "#7e9cdf",
          "width": 5
         },
         "mode": "lines",
         "showlegend": false,
         "text": [
          null,
          null,
          null,
          null,
          null,
          null,
          null,
          null,
          null,
          null,
          null
         ],
         "type": "scatter",
         "x": [
          37.6,
          37.5,
          37,
          36.8,
          35.4,
          34.3,
          33.3,
          32,
          30.4,
          29.2,
          28.5,
          28.3
         ],
         "xaxis": "x",
         "y": [
          55.8,
          55.7,
          55,
          55,
          55.3,
          55.2,
          54.8,
          54.6,
          54.4,
          54.4,
          54.3,
          54.4
         ],
         "yaxis": "y"
        },
        {
         "line": {
          "color": "#7e9cdf",
          "width": 5
         },
         "mode": "lines",
         "showlegend": false,
         "textposition": "bottom center",
         "type": "scatter",
         "x": [
          24.6,
          24.2,
          24.1
         ],
         "xaxis": "x",
         "y": [
          55.8,
          54.4,
          54.3
         ],
         "yaxis": "y"
        },
        {
         "marker": {
          "color": "red",
          "size": 8,
          "symbol": "circle-open-dot"
         },
         "mode": "lines+text+markers",
         "showlegend": false,
         "text": [
          "0 On Oct 18",
          "0 On Oct 24",
          "-9 On Nov 9",
          "-21 On Nov 14",
          null,
          "-20 On Nov 28",
          "-24 On Dec 1",
          "-30 On Dec 6",
          "-26 On Dec 7",
          null,
          null,
          null,
          null,
          null,
          null,
          null,
          null,
          null,
          null,
          null,
          null,
          null,
          null,
          null,
          null,
          null,
          null,
          null,
          null,
          null,
          null,
          null,
          null,
          null,
          null,
          null,
          null,
          null,
          null,
          null,
          null,
          null,
          null,
          null,
          null,
          null,
          null,
          null
         ],
         "textposition": "bottom center",
         "type": "scatter",
         "x": [
          37.6,
          36,
          33.2,
          32,
          29.2,
          28.5,
          27.2,
          26.7,
          25.3,
          null,
          null,
          null,
          null,
          null,
          null,
          null,
          null,
          null,
          null,
          null,
          null,
          null,
          null,
          null,
          null,
          null,
          null,
          null,
          null,
          null,
          null,
          null,
          null,
          null,
          null,
          null,
          null,
          null,
          null,
          null,
          null,
          null,
          null,
          null,
          null,
          null,
          null,
          null
         ],
         "xaxis": "x2",
         "y": [
          0,
          0,
          -9,
          -21,
          -11,
          -20,
          -24,
          -30,
          -26,
          null,
          null,
          null,
          null,
          null,
          null,
          null,
          null,
          null,
          null,
          null,
          null,
          null,
          null,
          null,
          null,
          null,
          null,
          null,
          null,
          null,
          null,
          null,
          null,
          null,
          null,
          null,
          null,
          null,
          null,
          null,
          null,
          null,
          null,
          null,
          null,
          null,
          null,
          null
         ],
         "yaxis": "y2"
        }
       ],
       "layout": {
        "height": 800,
        "margin": {
         "b": 50,
         "pad": 5,
         "t": 50
        },
        "template": {
         "data": {
          "bar": [
           {
            "error_x": {
             "color": "#2a3f5f"
            },
            "error_y": {
             "color": "#2a3f5f"
            },
            "marker": {
             "line": {
              "color": "#E5ECF6",
              "width": 0.5
             }
            },
            "type": "bar"
           }
          ],
          "barpolar": [
           {
            "marker": {
             "line": {
              "color": "#E5ECF6",
              "width": 0.5
             }
            },
            "type": "barpolar"
           }
          ],
          "carpet": [
           {
            "aaxis": {
             "endlinecolor": "#2a3f5f",
             "gridcolor": "white",
             "linecolor": "white",
             "minorgridcolor": "white",
             "startlinecolor": "#2a3f5f"
            },
            "baxis": {
             "endlinecolor": "#2a3f5f",
             "gridcolor": "white",
             "linecolor": "white",
             "minorgridcolor": "white",
             "startlinecolor": "#2a3f5f"
            },
            "type": "carpet"
           }
          ],
          "choropleth": [
           {
            "colorbar": {
             "outlinewidth": 0,
             "ticks": ""
            },
            "type": "choropleth"
           }
          ],
          "contour": [
           {
            "colorbar": {
             "outlinewidth": 0,
             "ticks": ""
            },
            "colorscale": [
             [
              0,
              "#0d0887"
             ],
             [
              0.1111111111111111,
              "#46039f"
             ],
             [
              0.2222222222222222,
              "#7201a8"
             ],
             [
              0.3333333333333333,
              "#9c179e"
             ],
             [
              0.4444444444444444,
              "#bd3786"
             ],
             [
              0.5555555555555556,
              "#d8576b"
             ],
             [
              0.6666666666666666,
              "#ed7953"
             ],
             [
              0.7777777777777778,
              "#fb9f3a"
             ],
             [
              0.8888888888888888,
              "#fdca26"
             ],
             [
              1,
              "#f0f921"
             ]
            ],
            "type": "contour"
           }
          ],
          "contourcarpet": [
           {
            "colorbar": {
             "outlinewidth": 0,
             "ticks": ""
            },
            "type": "contourcarpet"
           }
          ],
          "heatmap": [
           {
            "colorbar": {
             "outlinewidth": 0,
             "ticks": ""
            },
            "colorscale": [
             [
              0,
              "#0d0887"
             ],
             [
              0.1111111111111111,
              "#46039f"
             ],
             [
              0.2222222222222222,
              "#7201a8"
             ],
             [
              0.3333333333333333,
              "#9c179e"
             ],
             [
              0.4444444444444444,
              "#bd3786"
             ],
             [
              0.5555555555555556,
              "#d8576b"
             ],
             [
              0.6666666666666666,
              "#ed7953"
             ],
             [
              0.7777777777777778,
              "#fb9f3a"
             ],
             [
              0.8888888888888888,
              "#fdca26"
             ],
             [
              1,
              "#f0f921"
             ]
            ],
            "type": "heatmap"
           }
          ],
          "heatmapgl": [
           {
            "colorbar": {
             "outlinewidth": 0,
             "ticks": ""
            },
            "colorscale": [
             [
              0,
              "#0d0887"
             ],
             [
              0.1111111111111111,
              "#46039f"
             ],
             [
              0.2222222222222222,
              "#7201a8"
             ],
             [
              0.3333333333333333,
              "#9c179e"
             ],
             [
              0.4444444444444444,
              "#bd3786"
             ],
             [
              0.5555555555555556,
              "#d8576b"
             ],
             [
              0.6666666666666666,
              "#ed7953"
             ],
             [
              0.7777777777777778,
              "#fb9f3a"
             ],
             [
              0.8888888888888888,
              "#fdca26"
             ],
             [
              1,
              "#f0f921"
             ]
            ],
            "type": "heatmapgl"
           }
          ],
          "histogram": [
           {
            "marker": {
             "colorbar": {
              "outlinewidth": 0,
              "ticks": ""
             }
            },
            "type": "histogram"
           }
          ],
          "histogram2d": [
           {
            "colorbar": {
             "outlinewidth": 0,
             "ticks": ""
            },
            "colorscale": [
             [
              0,
              "#0d0887"
             ],
             [
              0.1111111111111111,
              "#46039f"
             ],
             [
              0.2222222222222222,
              "#7201a8"
             ],
             [
              0.3333333333333333,
              "#9c179e"
             ],
             [
              0.4444444444444444,
              "#bd3786"
             ],
             [
              0.5555555555555556,
              "#d8576b"
             ],
             [
              0.6666666666666666,
              "#ed7953"
             ],
             [
              0.7777777777777778,
              "#fb9f3a"
             ],
             [
              0.8888888888888888,
              "#fdca26"
             ],
             [
              1,
              "#f0f921"
             ]
            ],
            "type": "histogram2d"
           }
          ],
          "histogram2dcontour": [
           {
            "colorbar": {
             "outlinewidth": 0,
             "ticks": ""
            },
            "colorscale": [
             [
              0,
              "#0d0887"
             ],
             [
              0.1111111111111111,
              "#46039f"
             ],
             [
              0.2222222222222222,
              "#7201a8"
             ],
             [
              0.3333333333333333,
              "#9c179e"
             ],
             [
              0.4444444444444444,
              "#bd3786"
             ],
             [
              0.5555555555555556,
              "#d8576b"
             ],
             [
              0.6666666666666666,
              "#ed7953"
             ],
             [
              0.7777777777777778,
              "#fb9f3a"
             ],
             [
              0.8888888888888888,
              "#fdca26"
             ],
             [
              1,
              "#f0f921"
             ]
            ],
            "type": "histogram2dcontour"
           }
          ],
          "mesh3d": [
           {
            "colorbar": {
             "outlinewidth": 0,
             "ticks": ""
            },
            "type": "mesh3d"
           }
          ],
          "parcoords": [
           {
            "line": {
             "colorbar": {
              "outlinewidth": 0,
              "ticks": ""
             }
            },
            "type": "parcoords"
           }
          ],
          "pie": [
           {
            "automargin": true,
            "type": "pie"
           }
          ],
          "scatter": [
           {
            "marker": {
             "colorbar": {
              "outlinewidth": 0,
              "ticks": ""
             }
            },
            "type": "scatter"
           }
          ],
          "scatter3d": [
           {
            "line": {
             "colorbar": {
              "outlinewidth": 0,
              "ticks": ""
             }
            },
            "marker": {
             "colorbar": {
              "outlinewidth": 0,
              "ticks": ""
             }
            },
            "type": "scatter3d"
           }
          ],
          "scattercarpet": [
           {
            "marker": {
             "colorbar": {
              "outlinewidth": 0,
              "ticks": ""
             }
            },
            "type": "scattercarpet"
           }
          ],
          "scattergeo": [
           {
            "marker": {
             "colorbar": {
              "outlinewidth": 0,
              "ticks": ""
             }
            },
            "type": "scattergeo"
           }
          ],
          "scattergl": [
           {
            "marker": {
             "colorbar": {
              "outlinewidth": 0,
              "ticks": ""
             }
            },
            "type": "scattergl"
           }
          ],
          "scattermapbox": [
           {
            "marker": {
             "colorbar": {
              "outlinewidth": 0,
              "ticks": ""
             }
            },
            "type": "scattermapbox"
           }
          ],
          "scatterpolar": [
           {
            "marker": {
             "colorbar": {
              "outlinewidth": 0,
              "ticks": ""
             }
            },
            "type": "scatterpolar"
           }
          ],
          "scatterpolargl": [
           {
            "marker": {
             "colorbar": {
              "outlinewidth": 0,
              "ticks": ""
             }
            },
            "type": "scatterpolargl"
           }
          ],
          "scatterternary": [
           {
            "marker": {
             "colorbar": {
              "outlinewidth": 0,
              "ticks": ""
             }
            },
            "type": "scatterternary"
           }
          ],
          "surface": [
           {
            "colorbar": {
             "outlinewidth": 0,
             "ticks": ""
            },
            "colorscale": [
             [
              0,
              "#0d0887"
             ],
             [
              0.1111111111111111,
              "#46039f"
             ],
             [
              0.2222222222222222,
              "#7201a8"
             ],
             [
              0.3333333333333333,
              "#9c179e"
             ],
             [
              0.4444444444444444,
              "#bd3786"
             ],
             [
              0.5555555555555556,
              "#d8576b"
             ],
             [
              0.6666666666666666,
              "#ed7953"
             ],
             [
              0.7777777777777778,
              "#fb9f3a"
             ],
             [
              0.8888888888888888,
              "#fdca26"
             ],
             [
              1,
              "#f0f921"
             ]
            ],
            "type": "surface"
           }
          ],
          "table": [
           {
            "cells": {
             "fill": {
              "color": "#EBF0F8"
             },
             "line": {
              "color": "white"
             }
            },
            "header": {
             "fill": {
              "color": "#C8D4E3"
             },
             "line": {
              "color": "white"
             }
            },
            "type": "table"
           }
          ]
         },
         "layout": {
          "annotationdefaults": {
           "arrowcolor": "#2a3f5f",
           "arrowhead": 0,
           "arrowwidth": 1
          },
          "coloraxis": {
           "colorbar": {
            "outlinewidth": 0,
            "ticks": ""
           }
          },
          "colorscale": {
           "diverging": [
            [
             0,
             "#8e0152"
            ],
            [
             0.1,
             "#c51b7d"
            ],
            [
             0.2,
             "#de77ae"
            ],
            [
             0.3,
             "#f1b6da"
            ],
            [
             0.4,
             "#fde0ef"
            ],
            [
             0.5,
             "#f7f7f7"
            ],
            [
             0.6,
             "#e6f5d0"
            ],
            [
             0.7,
             "#b8e186"
            ],
            [
             0.8,
             "#7fbc41"
            ],
            [
             0.9,
             "#4d9221"
            ],
            [
             1,
             "#276419"
            ]
           ],
           "sequential": [
            [
             0,
             "#0d0887"
            ],
            [
             0.1111111111111111,
             "#46039f"
            ],
            [
             0.2222222222222222,
             "#7201a8"
            ],
            [
             0.3333333333333333,
             "#9c179e"
            ],
            [
             0.4444444444444444,
             "#bd3786"
            ],
            [
             0.5555555555555556,
             "#d8576b"
            ],
            [
             0.6666666666666666,
             "#ed7953"
            ],
            [
             0.7777777777777778,
             "#fb9f3a"
            ],
            [
             0.8888888888888888,
             "#fdca26"
            ],
            [
             1,
             "#f0f921"
            ]
           ],
           "sequentialminus": [
            [
             0,
             "#0d0887"
            ],
            [
             0.1111111111111111,
             "#46039f"
            ],
            [
             0.2222222222222222,
             "#7201a8"
            ],
            [
             0.3333333333333333,
             "#9c179e"
            ],
            [
             0.4444444444444444,
             "#bd3786"
            ],
            [
             0.5555555555555556,
             "#d8576b"
            ],
            [
             0.6666666666666666,
             "#ed7953"
            ],
            [
             0.7777777777777778,
             "#fb9f3a"
            ],
            [
             0.8888888888888888,
             "#fdca26"
            ],
            [
             1,
             "#f0f921"
            ]
           ]
          },
          "colorway": [
           "#636efa",
           "#EF553B",
           "#00cc96",
           "#ab63fa",
           "#FFA15A",
           "#19d3f3",
           "#FF6692",
           "#B6E880",
           "#FF97FF",
           "#FECB52"
          ],
          "font": {
           "color": "#2a3f5f"
          },
          "geo": {
           "bgcolor": "white",
           "lakecolor": "white",
           "landcolor": "#E5ECF6",
           "showlakes": true,
           "showland": true,
           "subunitcolor": "white"
          },
          "hoverlabel": {
           "align": "left"
          },
          "hovermode": "closest",
          "mapbox": {
           "style": "light"
          },
          "paper_bgcolor": "white",
          "plot_bgcolor": "#E5ECF6",
          "polar": {
           "angularaxis": {
            "gridcolor": "white",
            "linecolor": "white",
            "ticks": ""
           },
           "bgcolor": "#E5ECF6",
           "radialaxis": {
            "gridcolor": "white",
            "linecolor": "white",
            "ticks": ""
           }
          },
          "scene": {
           "xaxis": {
            "backgroundcolor": "#E5ECF6",
            "gridcolor": "white",
            "gridwidth": 2,
            "linecolor": "white",
            "showbackground": true,
            "ticks": "",
            "zerolinecolor": "white"
           },
           "yaxis": {
            "backgroundcolor": "#E5ECF6",
            "gridcolor": "white",
            "gridwidth": 2,
            "linecolor": "white",
            "showbackground": true,
            "ticks": "",
            "zerolinecolor": "white"
           },
           "zaxis": {
            "backgroundcolor": "#E5ECF6",
            "gridcolor": "white",
            "gridwidth": 2,
            "linecolor": "white",
            "showbackground": true,
            "ticks": "",
            "zerolinecolor": "white"
           }
          },
          "shapedefaults": {
           "line": {
            "color": "#2a3f5f"
           }
          },
          "ternary": {
           "aaxis": {
            "gridcolor": "white",
            "linecolor": "white",
            "ticks": ""
           },
           "baxis": {
            "gridcolor": "white",
            "linecolor": "white",
            "ticks": ""
           },
           "bgcolor": "#E5ECF6",
           "caxis": {
            "gridcolor": "white",
            "linecolor": "white",
            "ticks": ""
           }
          },
          "title": {
           "x": 0.05
          },
          "xaxis": {
           "automargin": true,
           "gridcolor": "white",
           "linecolor": "white",
           "ticks": "",
           "title": {
            "standoff": 15
           },
           "zerolinecolor": "white",
           "zerolinewidth": 2
          },
          "yaxis": {
           "automargin": true,
           "gridcolor": "white",
           "linecolor": "white",
           "ticks": "",
           "title": {
            "standoff": 15
           },
           "zerolinecolor": "white",
           "zerolinewidth": 2
          }
         }
        },
        "title": {
         "font": {
          "family": "Droid Serif",
          "size": 20
         },
         "text": "CHARLES JOSEPH MINARD’S MAP OF NAPOLEON’S RUSSIA CAMPAIGN.",
         "xanchor": "left"
        },
        "width": 1000,
        "xaxis": {
         "anchor": "y",
         "domain": [
          0,
          1
         ]
        },
        "xaxis2": {
         "anchor": "y2",
         "domain": [
          0,
          1
         ]
        },
        "yaxis": {
         "anchor": "x",
         "domain": [
          0.575,
          1
         ],
         "title": {
          "text": "Longitude"
         },
         "visible": true
        },
        "yaxis2": {
         "anchor": "x2",
         "domain": [
          0,
          0.425
         ],
         "title": {
          "text": "Temperature"
         },
         "visible": true
        }
       }
      },
      "text/html": [
       "<div>\n",
       "        \n",
       "        \n",
       "            <div id=\"fc0de0b6-6e91-4fb9-aba3-d9125e194c14\" class=\"plotly-graph-div\" style=\"height:800px; width:1000px;\"></div>\n",
       "            <script type=\"text/javascript\">\n",
       "                require([\"plotly\"], function(Plotly) {\n",
       "                    window.PLOTLYENV=window.PLOTLYENV || {};\n",
       "                    \n",
       "                if (document.getElementById(\"fc0de0b6-6e91-4fb9-aba3-d9125e194c14\")) {\n",
       "                    Plotly.newPlot(\n",
       "                        'fc0de0b6-6e91-4fb9-aba3-d9125e194c14',\n",
       "                        [{\"marker\": {\"color\": \"black\", \"size\": 8}, \"mode\": \"markers+text\", \"showlegend\": false, \"text\": [\"Kowno\", \"Wilna\", \"Smorgoni\", \"Molodexno\", \"Gloubokoe\", \"Minsk\", \"Studienska\", \"Polotzk\", \"Bobr\", \"Witebsk\", \"Orscha\", \"Mohilow\", \"Smolensk\", \"Dorogobouge\", \"Wixma\", \"Chjat\", \"Mojaisk\", \"Moscou\", \"Tarantino\", \"Malo-jarosewli\", null, null, null, null, null, null, null, null, null, null, null, null, null, null, null, null, null, null, null, null, null, null, null, null, null, null, null, null], \"textposition\": \"middle right\", \"type\": \"scatter\", \"x\": [24.0, 25.3, 26.4, 26.8, 27.7, 27.6, 28.5, 28.7, 29.2, 30.2, 30.4, 30.4, 32.0, 33.2, 34.3, 34.4, 36.0, 37.6, 36.6, 36.5, null, null, null, null, null, null, null, null, null, null, null, null, null, null, null, null, null, null, null, null, null, null, null, null, null, null, null, null], \"xaxis\": \"x\", \"y\": [55.0, 54.7, 54.4, 54.3, 55.2, 53.9, 54.3, 55.5, 54.4, 55.3, 54.5, 53.9, 54.8, 54.9, 55.2, 55.5, 55.5, 55.8, 55.3, 55.0, null, null, null, null, null, null, null, null, null, null, null, null, null, null, null, null, null, null, null, null, null, null, null, null, null, null, null, null], \"yaxis\": \"y\"}, {\"line\": {\"color\": \"#8c564b\", \"width\": 10}, \"mode\": \"lines\", \"name\": \"ADVANCE\", \"type\": \"scatter\", \"x\": [24.0, 24.5, 25.5, 26.0, 27.0, 28.0, 28.5, 29.0, 30.0, 30.3, 32.0, 33.2, 34.4, 35.5, 36.0], \"xaxis\": \"x\", \"y\": [54.9, 55.0, 54.5, 54.7, 54.8, 54.9, 55.0, 55.1, 55.2, 55.3, 54.8, 54.9, 55.5, 55.4, 55.5], \"yaxis\": \"y\"}, {\"line\": {\"color\": \"#8c564b\", \"width\": 10}, \"mode\": \"lines\", \"showlegend\": false, \"textposition\": \"bottom center\", \"type\": \"scatter\", \"x\": [24.0, 24.5, 25.5, 26.6, 27.4], \"xaxis\": \"x\", \"y\": [55.1, 55.2, 54.7, 55.7, 55.6], \"yaxis\": \"y\"}, {\"line\": {\"color\": \"#8c564b\", \"width\": 8}, \"mode\": \"lines\", \"showlegend\": false, \"textposition\": \"bottom center\", \"type\": \"scatter\", \"x\": [24.0, 24.5], \"xaxis\": \"x\", \"y\": [55.2, 55.3], \"yaxis\": \"y\"}, {\"line\": {\"color\": \"#D3D3D3\", \"width\": 40}, \"mode\": \"markers+lines\", \"name\": \"SURVIOURS_HIGH\", \"text\": [340000.0, 340000.0, 340000.0, 320000.0, 300000.0, 280000.0, 240000.0], \"textposition\": \"bottom center\", \"type\": \"scatter\", \"x\": [24.0, 24.5, 25.5, 26.0, 27.0, 28.0, 28.5], \"xaxis\": \"x\", \"y\": [54.9, 55.0, 54.5, 54.7, 54.8, 54.9, 55.0], \"yaxis\": \"y\"}, {\"line\": {\"color\": \"#D3D3D3\", \"width\": 25}, \"mode\": \"markers+lines\", \"name\": \"SURVIOURS_MID\", \"text\": [210000.0, 180000.0, 175000.0, 145000.0, 140000.0, 127100.0, 100000.0, 100000.0], \"textposition\": \"bottom center\", \"type\": \"scatter\", \"x\": [29.0, 30.0, 30.3, 32.0, 33.2, 34.4, 35.5, 36.0], \"xaxis\": \"x\", \"y\": [55.1, 55.2, 55.3, 54.8, 54.9, 55.5, 55.4, 55.5], \"yaxis\": \"y\"}, {\"line\": {\"color\": \"#D3D3D3\", \"width\": 10}, \"mode\": \"markers+lines\", \"showlegend\": false, \"text\": [60000.0, 60000.0, 60000.0], \"textposition\": \"bottom center\", \"type\": \"scatter\", \"x\": [24.0, 24.5, 25.5], \"xaxis\": \"x\", \"y\": [55.1, 55.2, 54.7], \"yaxis\": \"y\"}, {\"line\": {\"color\": \"#D3D3D3\", \"width\": 5}, \"mode\": \"markers+lines\", \"name\": \"SURVIOURS_LOW\", \"text\": [60000.0, 60000.0, 60000.0], \"textposition\": \"bottom center\", \"type\": \"scatter\", \"x\": [26.6, 27.4, 24.0, 24.5], \"xaxis\": \"x\", \"y\": [55.7, 55.6, 55.2, 55.3], \"yaxis\": \"y\"}, {\"line\": {\"color\": \"#7e9cdf\", \"width\": 8}, \"mode\": \"lines\", \"name\": \"RETREAT\", \"type\": \"scatter\", \"x\": [28.7, 29.2, 28.5, 28.3, 27.5, 26.8, 26.4, 24.6, 24.4, 24.2, 24.1], \"xaxis\": \"x\", \"y\": [55.5, 54.3, 54.2, 54.3, 54.5, 54.3, 54.4, 54.5, 54.4, 54.4, 54.3], \"yaxis\": \"y\"}, {\"line\": {\"color\": \"#7e9cdf\", \"width\": 5}, \"mode\": \"lines\", \"showlegend\": false, \"text\": [null, null, null, null, null, null, null, null, null, null, null], \"type\": \"scatter\", \"x\": [37.6, 37.5, 37.0, 36.8, 35.4, 34.3, 33.3, 32.0, 30.4, 29.2, 28.5, 28.3], \"xaxis\": \"x\", \"y\": [55.8, 55.7, 55.0, 55.0, 55.3, 55.2, 54.8, 54.6, 54.4, 54.4, 54.3, 54.4], \"yaxis\": \"y\"}, {\"line\": {\"color\": \"#7e9cdf\", \"width\": 5}, \"mode\": \"lines\", \"showlegend\": false, \"textposition\": \"bottom center\", \"type\": \"scatter\", \"x\": [24.6, 24.2, 24.1], \"xaxis\": \"x\", \"y\": [55.8, 54.4, 54.3], \"yaxis\": \"y\"}, {\"marker\": {\"color\": \"red\", \"size\": 8, \"symbol\": \"circle-open-dot\"}, \"mode\": \"lines+text+markers\", \"showlegend\": false, \"text\": [\"0 On Oct 18\", \"0 On Oct 24\", \"-9 On Nov 9\", \"-21 On Nov 14\", null, \"-20 On Nov 28\", \"-24 On Dec 1\", \"-30 On Dec 6\", \"-26 On Dec 7\", null, null, null, null, null, null, null, null, null, null, null, null, null, null, null, null, null, null, null, null, null, null, null, null, null, null, null, null, null, null, null, null, null, null, null, null, null, null, null], \"textposition\": \"bottom center\", \"type\": \"scatter\", \"x\": [37.6, 36.0, 33.2, 32.0, 29.2, 28.5, 27.2, 26.7, 25.3, null, null, null, null, null, null, null, null, null, null, null, null, null, null, null, null, null, null, null, null, null, null, null, null, null, null, null, null, null, null, null, null, null, null, null, null, null, null, null], \"xaxis\": \"x2\", \"y\": [0.0, 0.0, -9.0, -21.0, -11.0, -20.0, -24.0, -30.0, -26.0, null, null, null, null, null, null, null, null, null, null, null, null, null, null, null, null, null, null, null, null, null, null, null, null, null, null, null, null, null, null, null, null, null, null, null, null, null, null, null], \"yaxis\": \"y2\"}],\n",
       "                        {\"height\": 800, \"margin\": {\"b\": 50, \"pad\": 5, \"t\": 50}, \"template\": {\"data\": {\"bar\": [{\"error_x\": {\"color\": \"#2a3f5f\"}, \"error_y\": {\"color\": \"#2a3f5f\"}, \"marker\": {\"line\": {\"color\": \"#E5ECF6\", \"width\": 0.5}}, \"type\": \"bar\"}], \"barpolar\": [{\"marker\": {\"line\": {\"color\": \"#E5ECF6\", \"width\": 0.5}}, \"type\": \"barpolar\"}], \"carpet\": [{\"aaxis\": {\"endlinecolor\": \"#2a3f5f\", \"gridcolor\": \"white\", \"linecolor\": \"white\", \"minorgridcolor\": \"white\", \"startlinecolor\": \"#2a3f5f\"}, \"baxis\": {\"endlinecolor\": \"#2a3f5f\", \"gridcolor\": \"white\", \"linecolor\": \"white\", \"minorgridcolor\": \"white\", \"startlinecolor\": \"#2a3f5f\"}, \"type\": \"carpet\"}], \"choropleth\": [{\"colorbar\": {\"outlinewidth\": 0, \"ticks\": \"\"}, \"type\": \"choropleth\"}], \"contour\": [{\"colorbar\": {\"outlinewidth\": 0, \"ticks\": \"\"}, \"colorscale\": [[0.0, \"#0d0887\"], [0.1111111111111111, \"#46039f\"], [0.2222222222222222, \"#7201a8\"], [0.3333333333333333, \"#9c179e\"], [0.4444444444444444, \"#bd3786\"], [0.5555555555555556, \"#d8576b\"], [0.6666666666666666, \"#ed7953\"], [0.7777777777777778, \"#fb9f3a\"], [0.8888888888888888, \"#fdca26\"], [1.0, \"#f0f921\"]], \"type\": \"contour\"}], \"contourcarpet\": [{\"colorbar\": {\"outlinewidth\": 0, \"ticks\": \"\"}, \"type\": \"contourcarpet\"}], \"heatmap\": [{\"colorbar\": {\"outlinewidth\": 0, \"ticks\": \"\"}, \"colorscale\": [[0.0, \"#0d0887\"], [0.1111111111111111, \"#46039f\"], [0.2222222222222222, \"#7201a8\"], [0.3333333333333333, \"#9c179e\"], [0.4444444444444444, \"#bd3786\"], [0.5555555555555556, \"#d8576b\"], [0.6666666666666666, \"#ed7953\"], [0.7777777777777778, \"#fb9f3a\"], [0.8888888888888888, \"#fdca26\"], [1.0, \"#f0f921\"]], \"type\": \"heatmap\"}], \"heatmapgl\": [{\"colorbar\": {\"outlinewidth\": 0, \"ticks\": \"\"}, \"colorscale\": [[0.0, \"#0d0887\"], [0.1111111111111111, \"#46039f\"], [0.2222222222222222, \"#7201a8\"], [0.3333333333333333, \"#9c179e\"], [0.4444444444444444, \"#bd3786\"], [0.5555555555555556, \"#d8576b\"], [0.6666666666666666, \"#ed7953\"], [0.7777777777777778, \"#fb9f3a\"], [0.8888888888888888, \"#fdca26\"], [1.0, \"#f0f921\"]], \"type\": \"heatmapgl\"}], \"histogram\": [{\"marker\": {\"colorbar\": {\"outlinewidth\": 0, \"ticks\": \"\"}}, \"type\": \"histogram\"}], \"histogram2d\": [{\"colorbar\": {\"outlinewidth\": 0, \"ticks\": \"\"}, \"colorscale\": [[0.0, \"#0d0887\"], [0.1111111111111111, \"#46039f\"], [0.2222222222222222, \"#7201a8\"], [0.3333333333333333, \"#9c179e\"], [0.4444444444444444, \"#bd3786\"], [0.5555555555555556, \"#d8576b\"], [0.6666666666666666, \"#ed7953\"], [0.7777777777777778, \"#fb9f3a\"], [0.8888888888888888, \"#fdca26\"], [1.0, \"#f0f921\"]], \"type\": \"histogram2d\"}], \"histogram2dcontour\": [{\"colorbar\": {\"outlinewidth\": 0, \"ticks\": \"\"}, \"colorscale\": [[0.0, \"#0d0887\"], [0.1111111111111111, \"#46039f\"], [0.2222222222222222, \"#7201a8\"], [0.3333333333333333, \"#9c179e\"], [0.4444444444444444, \"#bd3786\"], [0.5555555555555556, \"#d8576b\"], [0.6666666666666666, \"#ed7953\"], [0.7777777777777778, \"#fb9f3a\"], [0.8888888888888888, \"#fdca26\"], [1.0, \"#f0f921\"]], \"type\": \"histogram2dcontour\"}], \"mesh3d\": [{\"colorbar\": {\"outlinewidth\": 0, \"ticks\": \"\"}, \"type\": \"mesh3d\"}], \"parcoords\": [{\"line\": {\"colorbar\": {\"outlinewidth\": 0, \"ticks\": \"\"}}, \"type\": \"parcoords\"}], \"pie\": [{\"automargin\": true, \"type\": \"pie\"}], \"scatter\": [{\"marker\": {\"colorbar\": {\"outlinewidth\": 0, \"ticks\": \"\"}}, \"type\": \"scatter\"}], \"scatter3d\": [{\"line\": {\"colorbar\": {\"outlinewidth\": 0, \"ticks\": \"\"}}, \"marker\": {\"colorbar\": {\"outlinewidth\": 0, \"ticks\": \"\"}}, \"type\": \"scatter3d\"}], \"scattercarpet\": [{\"marker\": {\"colorbar\": {\"outlinewidth\": 0, \"ticks\": \"\"}}, \"type\": \"scattercarpet\"}], \"scattergeo\": [{\"marker\": {\"colorbar\": {\"outlinewidth\": 0, \"ticks\": \"\"}}, \"type\": \"scattergeo\"}], \"scattergl\": [{\"marker\": {\"colorbar\": {\"outlinewidth\": 0, \"ticks\": \"\"}}, \"type\": \"scattergl\"}], \"scattermapbox\": [{\"marker\": {\"colorbar\": {\"outlinewidth\": 0, \"ticks\": \"\"}}, \"type\": \"scattermapbox\"}], \"scatterpolar\": [{\"marker\": {\"colorbar\": {\"outlinewidth\": 0, \"ticks\": \"\"}}, \"type\": \"scatterpolar\"}], \"scatterpolargl\": [{\"marker\": {\"colorbar\": {\"outlinewidth\": 0, \"ticks\": \"\"}}, \"type\": \"scatterpolargl\"}], \"scatterternary\": [{\"marker\": {\"colorbar\": {\"outlinewidth\": 0, \"ticks\": \"\"}}, \"type\": \"scatterternary\"}], \"surface\": [{\"colorbar\": {\"outlinewidth\": 0, \"ticks\": \"\"}, \"colorscale\": [[0.0, \"#0d0887\"], [0.1111111111111111, \"#46039f\"], [0.2222222222222222, \"#7201a8\"], [0.3333333333333333, \"#9c179e\"], [0.4444444444444444, \"#bd3786\"], [0.5555555555555556, \"#d8576b\"], [0.6666666666666666, \"#ed7953\"], [0.7777777777777778, \"#fb9f3a\"], [0.8888888888888888, \"#fdca26\"], [1.0, \"#f0f921\"]], \"type\": \"surface\"}], \"table\": [{\"cells\": {\"fill\": {\"color\": \"#EBF0F8\"}, \"line\": {\"color\": \"white\"}}, \"header\": {\"fill\": {\"color\": \"#C8D4E3\"}, \"line\": {\"color\": \"white\"}}, \"type\": \"table\"}]}, \"layout\": {\"annotationdefaults\": {\"arrowcolor\": \"#2a3f5f\", \"arrowhead\": 0, \"arrowwidth\": 1}, \"coloraxis\": {\"colorbar\": {\"outlinewidth\": 0, \"ticks\": \"\"}}, \"colorscale\": {\"diverging\": [[0, \"#8e0152\"], [0.1, \"#c51b7d\"], [0.2, \"#de77ae\"], [0.3, \"#f1b6da\"], [0.4, \"#fde0ef\"], [0.5, \"#f7f7f7\"], [0.6, \"#e6f5d0\"], [0.7, \"#b8e186\"], [0.8, \"#7fbc41\"], [0.9, \"#4d9221\"], [1, \"#276419\"]], \"sequential\": [[0.0, \"#0d0887\"], [0.1111111111111111, \"#46039f\"], [0.2222222222222222, \"#7201a8\"], [0.3333333333333333, \"#9c179e\"], [0.4444444444444444, \"#bd3786\"], [0.5555555555555556, \"#d8576b\"], [0.6666666666666666, \"#ed7953\"], [0.7777777777777778, \"#fb9f3a\"], [0.8888888888888888, \"#fdca26\"], [1.0, \"#f0f921\"]], \"sequentialminus\": [[0.0, \"#0d0887\"], [0.1111111111111111, \"#46039f\"], [0.2222222222222222, \"#7201a8\"], [0.3333333333333333, \"#9c179e\"], [0.4444444444444444, \"#bd3786\"], [0.5555555555555556, \"#d8576b\"], [0.6666666666666666, \"#ed7953\"], [0.7777777777777778, \"#fb9f3a\"], [0.8888888888888888, \"#fdca26\"], [1.0, \"#f0f921\"]]}, \"colorway\": [\"#636efa\", \"#EF553B\", \"#00cc96\", \"#ab63fa\", \"#FFA15A\", \"#19d3f3\", \"#FF6692\", \"#B6E880\", \"#FF97FF\", \"#FECB52\"], \"font\": {\"color\": \"#2a3f5f\"}, \"geo\": {\"bgcolor\": \"white\", \"lakecolor\": \"white\", \"landcolor\": \"#E5ECF6\", \"showlakes\": true, \"showland\": true, \"subunitcolor\": \"white\"}, \"hoverlabel\": {\"align\": \"left\"}, \"hovermode\": \"closest\", \"mapbox\": {\"style\": \"light\"}, \"paper_bgcolor\": \"white\", \"plot_bgcolor\": \"#E5ECF6\", \"polar\": {\"angularaxis\": {\"gridcolor\": \"white\", \"linecolor\": \"white\", \"ticks\": \"\"}, \"bgcolor\": \"#E5ECF6\", \"radialaxis\": {\"gridcolor\": \"white\", \"linecolor\": \"white\", \"ticks\": \"\"}}, \"scene\": {\"xaxis\": {\"backgroundcolor\": \"#E5ECF6\", \"gridcolor\": \"white\", \"gridwidth\": 2, \"linecolor\": \"white\", \"showbackground\": true, \"ticks\": \"\", \"zerolinecolor\": \"white\"}, \"yaxis\": {\"backgroundcolor\": \"#E5ECF6\", \"gridcolor\": \"white\", \"gridwidth\": 2, \"linecolor\": \"white\", \"showbackground\": true, \"ticks\": \"\", \"zerolinecolor\": \"white\"}, \"zaxis\": {\"backgroundcolor\": \"#E5ECF6\", \"gridcolor\": \"white\", \"gridwidth\": 2, \"linecolor\": \"white\", \"showbackground\": true, \"ticks\": \"\", \"zerolinecolor\": \"white\"}}, \"shapedefaults\": {\"line\": {\"color\": \"#2a3f5f\"}}, \"ternary\": {\"aaxis\": {\"gridcolor\": \"white\", \"linecolor\": \"white\", \"ticks\": \"\"}, \"baxis\": {\"gridcolor\": \"white\", \"linecolor\": \"white\", \"ticks\": \"\"}, \"bgcolor\": \"#E5ECF6\", \"caxis\": {\"gridcolor\": \"white\", \"linecolor\": \"white\", \"ticks\": \"\"}}, \"title\": {\"x\": 0.05}, \"xaxis\": {\"automargin\": true, \"gridcolor\": \"white\", \"linecolor\": \"white\", \"ticks\": \"\", \"title\": {\"standoff\": 15}, \"zerolinecolor\": \"white\", \"zerolinewidth\": 2}, \"yaxis\": {\"automargin\": true, \"gridcolor\": \"white\", \"linecolor\": \"white\", \"ticks\": \"\", \"title\": {\"standoff\": 15}, \"zerolinecolor\": \"white\", \"zerolinewidth\": 2}}}, \"title\": {\"font\": {\"family\": \"Droid Serif\", \"size\": 20}, \"text\": \"CHARLES JOSEPH MINARD\\u2019S MAP OF NAPOLEON\\u2019S RUSSIA CAMPAIGN.\", \"xanchor\": \"left\"}, \"width\": 1000, \"xaxis\": {\"anchor\": \"y\", \"domain\": [0.0, 1.0]}, \"xaxis2\": {\"anchor\": \"y2\", \"domain\": [0.0, 1.0]}, \"yaxis\": {\"anchor\": \"x\", \"domain\": [0.575, 1.0], \"title\": {\"text\": \"Longitude\"}, \"visible\": true}, \"yaxis2\": {\"anchor\": \"x2\", \"domain\": [0.0, 0.425], \"title\": {\"text\": \"Temperature\"}, \"visible\": true}},\n",
       "                        {\"responsive\": true}\n",
       "                    ).then(function(){\n",
       "                            \n",
       "var gd = document.getElementById('fc0de0b6-6e91-4fb9-aba3-d9125e194c14');\n",
       "var x = new MutationObserver(function (mutations, observer) {{\n",
       "        var display = window.getComputedStyle(gd).display;\n",
       "        if (!display || display === 'none') {{\n",
       "            console.log([gd, 'removed!']);\n",
       "            Plotly.purge(gd);\n",
       "            observer.disconnect();\n",
       "        }}\n",
       "}});\n",
       "\n",
       "// Listen for the removal of the full notebook cells\n",
       "var notebookContainer = gd.closest('#notebook-container');\n",
       "if (notebookContainer) {{\n",
       "    x.observe(notebookContainer, {childList: true});\n",
       "}}\n",
       "\n",
       "// Listen for the clearing of the current output cell\n",
       "var outputEl = gd.closest('.output');\n",
       "if (outputEl) {{\n",
       "    x.observe(outputEl, {childList: true});\n",
       "}}\n",
       "\n",
       "                        })\n",
       "                };\n",
       "                });\n",
       "            </script>\n",
       "        </div>"
      ]
     },
     "metadata": {},
     "output_type": "display_data"
    }
   ],
   "source": [
    "import pandas as pd\n",
    "import numpy as np\n",
    "import plotly\n",
    "plotly.offline.init_notebook_mode(connected=True)\n",
    "import plotly.offline as py\n",
    "import plotly.graph_objs as go\n",
    "from plotly import tools\n",
    "import os\n",
    "os.chdir(\"/Users/siqiwei/Desktop/Data-Visualisation-CS7DS4-/\")\n",
    "\n",
    "data = pd.read_csv(\"minard-data.csv\") \n",
    "\n",
    "\n",
    "#Advance \n",
    "\n",
    "advan_1 = data[((data['DIR']=='A') & (data['DIV']==1))]\n",
    "advan_2 = data[((data['DIR']=='A') & (data['DIV']==2))]\n",
    "advan_3 = data[(data['DIR']=='A') & (data['DIV']==3)]\n",
    "\n",
    "#Retreat \n",
    "retreat_1 = data[(data['DIR']=='R') & (data['DIV']==2)]\n",
    "retreat_2 = data[(data['DIR']=='R') & (data['DIV']==1)]\n",
    "retreat_3 = data[(data['DIR']=='R') & (data['DIV']==3)]\n",
    "\n",
    "#survivors in the army along the path\n",
    "sur_1 = data[(data['DIR'] == 'A') & (data['SURV']>= 240000)]\n",
    "sur_2 = data[(data['DIR'] == 'A') & (data['SURV']< 240000) &(data['SURV'] >= 100000)]\n",
    "sur_3 = data[(data['DIR'] == 'A') & (data['SURV']< 100000) &(data['SURV'] >= 55000)]\n",
    "sur_4 = data[(data['DIR'] == 'A') & (data['SURV']< 55000) &(data['SURV'] >= 4000)]       \n",
    "\n",
    "\n",
    "traceCities = go.Scatter(\n",
    "    x = data[\"LONC\"],\n",
    "    y = data[\"LATC\"],\n",
    "    showlegend = False,\n",
    "    mode ='markers+text',\n",
    "    marker_color = \"black\", \n",
    "    marker_size = 8,\n",
    "    text = data.CITY,\n",
    "    textposition='middle right'\n",
    "  )\n",
    "\n",
    "trace1A = go.Scatter(\n",
    "     x = advan_1[\"LONP\"],\n",
    "     y = advan_1[\"LATP\"],\n",
    "     name='ADVANCE',\n",
    "    \n",
    "     line = dict(\n",
    "        color = ('#8c564b'),\n",
    "        width = 10\n",
    "    ),\n",
    "  \n",
    "     mode='lines'\n",
    ")\n",
    "trace2A = go.Scatter(\n",
    "     x= advan_2[\"LONP\"],\n",
    "     y= advan_2[\"LATP\"],\n",
    "     showlegend=False,\n",
    "\n",
    "  line = dict(\n",
    "        color = ('#8c564b'),\n",
    "        width = 10\n",
    "  ),\n",
    "  mode='lines',\n",
    "  textposition='bottom center'\n",
    "\n",
    ")\n",
    "\n",
    "trace3A = go.Scatter(   \n",
    "    x= advan_3[\"LONP\"],\n",
    "    y= advan_3[\"LATP\"],\n",
    "    showlegend=False,\n",
    "  \n",
    "    line = dict(\n",
    "        color = ('#8c564b'),\n",
    "        width = 8\n",
    "    ),\n",
    "    mode='lines',\n",
    "    textposition='bottom center'\n",
    ")\n",
    "trace4A = go.Scatter(\n",
    "    name = \"SURVIOURS_HIGH\",\n",
    "    x = sur_1[\"LONP\"],\n",
    "    y = sur_1[\"LATP\"],\n",
    "     \n",
    "    line = dict(\n",
    "        color = '#D3D3D3', \n",
    "        width = 40,\n",
    "    ),\n",
    "    mode = 'markers + lines',\n",
    "    text = sur_1.SURV,\n",
    "    textposition = 'bottom center'\n",
    "    \n",
    ")\n",
    "trace5A = go.Scatter(\n",
    "    name = \"SURVIOURS_MID\",\n",
    "    x = sur_2[\"LONP\"],\n",
    "    y = sur_2[\"LATP\"],\n",
    "    line = dict(\n",
    "        color = '#D3D3D3', \n",
    "        width = 25\n",
    "               \n",
    "    ),\n",
    "    mode = 'markers + lines',\n",
    "    text = sur_2.SURV,\n",
    "    textposition = 'bottom center'\n",
    ")\n",
    "trace6A = go.Scatter(\n",
    "    x = sur_3[\"LONP\"],\n",
    "    y = sur_3[\"LATP\"],\n",
    "    showlegend= False, \n",
    "    line = dict(\n",
    "        color = '#D3D3D3', \n",
    "        width = 10\n",
    "    ),\n",
    "    mode = 'markers+lines',\n",
    "    text = sur_3.SURV,\n",
    "    textposition = 'bottom center'\n",
    ")\n",
    "trace7A = go.Scatter(\n",
    "    name = \"SURVIOURS_LOW\",\n",
    "    x = sur_4[\"LONP\"],\n",
    "    y = sur_4[\"LATP\"],\n",
    "    line = dict(\n",
    "        color = '#D3D3D3', \n",
    "        width = 5\n",
    "    ),\n",
    "    mode = 'markers+lines',\n",
    "    text = sur_3.SURV,\n",
    "    textposition = 'bottom center'\n",
    ")\n",
    "             \n",
    "trace1R = go.Scatter(\n",
    "     x= retreat_1[\"LONP\"],\n",
    "     y= retreat_1[\"LATP\"],\n",
    "      name='RETREAT', \n",
    "  line = dict(\n",
    "        color = ('#7e9cdf'),\n",
    "        width = 8\n",
    "  ),\n",
    "  mode='lines'\n",
    "  )\n",
    "\n",
    "\n",
    "trace2R = go.Scatter(\n",
    "     x= retreat_2[\"LONP\"],\n",
    "     y= retreat_2[\"LATP\"],\n",
    "     showlegend=False,    \n",
    "      line = dict(\n",
    "            color = ('#7e9cdf'),\n",
    "            width = 5\n",
    "      ),\n",
    "      mode='lines',\n",
    "      text=sur4.CITY\n",
    "  )\n",
    "\n",
    "\n",
    "trace3R = go.Scatter(\n",
    "    x = retreat_3[\"LONP\"],\n",
    "    y = retreat_3[\"LATP\"],\n",
    "    showlegend = False,\n",
    "    \n",
    "    line = dict(\n",
    "        color = ('#7e9cdf'),\n",
    "        width = 5\n",
    "    ),\n",
    "    mode = 'lines',\n",
    "    textposition = 'bottom center'\n",
    ")\n",
    "\n",
    "traceTemp = go.Scatter(\n",
    "    \n",
    "    x = data[\"LONT\"],\n",
    "    y = data[\"TEMP\"],\n",
    "    showlegend = False,\n",
    "    mode = 'lines+text+markers',\n",
    "    marker = dict(\n",
    "        symbol = 'circle-open-dot',\n",
    "        color = \"red\",\n",
    "        size = 8\n",
    "    ),\n",
    "    \n",
    "    text = data.dropna().TEMP.astype(int).map(str) + ' On ' + data.MON + ' '\n",
    "            + data.dropna().DAY.astype(int).map(str),\n",
    "    \n",
    "    textposition = 'bottom center',\n",
    "    \n",
    "  )\n",
    "\n",
    "data_list = [traceCities,trace1A,trace2A, trace3A, trace4A, trace5A, trace6A, trace7A, trace1R, trace2R, trace3R]\n",
    "# make subplots of 2 rows \n",
    "fig = tools.make_subplots(rows=2,cols=1)\n",
    "\n",
    "#add traces to fig on row 1 \n",
    "for data in data_list:\n",
    "    fig.append_trace(data, 1, 1)\n",
    "\n",
    "#add trace to fig on row 2 \n",
    "fig.append_trace(traceTemp,2,1)\n",
    "\n",
    "#add layout \n",
    "fig.update_layout(\n",
    "    title = dict(\n",
    "        text = 'CHARLES JOSEPH MINARD’S MAP OF NAPOLEON’S RUSSIA CAMPAIGN.',\n",
    "        font = dict(\n",
    "            size = 20,\n",
    "            family = \"Droid Serif\"\n",
    "        ),\n",
    "        xanchor = \"left\"\n",
    "    ),\n",
    "    \n",
    "    margin = dict(\n",
    "        b = 50,\n",
    "        t = 50,\n",
    "        pad = 5\n",
    "    ),\n",
    "    \n",
    "    width = 1000,\n",
    "    height = 800,\n",
    "    yaxis = dict(title='Longitude', visible=True),\n",
    "    yaxis2 = dict(title= 'Temperature',visible=True )\n",
    ")\n",
    "\n",
    "fig.show()"
   ]
  },
  {
   "cell_type": "code",
   "execution_count": null,
   "metadata": {},
   "outputs": [],
   "source": []
  },
  {
   "cell_type": "code",
   "execution_count": null,
   "metadata": {},
   "outputs": [],
   "source": []
  },
  {
   "cell_type": "code",
   "execution_count": 37,
   "metadata": {},
   "outputs": [
    {
     "data": {
      "text/html": [
       "<div>\n",
       "<style scoped>\n",
       "    .dataframe tbody tr th:only-of-type {\n",
       "        vertical-align: middle;\n",
       "    }\n",
       "\n",
       "    .dataframe tbody tr th {\n",
       "        vertical-align: top;\n",
       "    }\n",
       "\n",
       "    .dataframe thead th {\n",
       "        text-align: right;\n",
       "    }\n",
       "</style>\n",
       "<table border=\"1\" class=\"dataframe\">\n",
       "  <thead>\n",
       "    <tr style=\"text-align: right;\">\n",
       "      <th></th>\n",
       "      <th>LONC</th>\n",
       "      <th>LATC</th>\n",
       "      <th>CITY</th>\n",
       "      <th>LONT</th>\n",
       "      <th>TEMP</th>\n",
       "      <th>DAYS</th>\n",
       "      <th>MON</th>\n",
       "      <th>DAY</th>\n",
       "      <th>LONP</th>\n",
       "      <th>LATP</th>\n",
       "      <th>SURV</th>\n",
       "      <th>DIR</th>\n",
       "      <th>DIV</th>\n",
       "    </tr>\n",
       "  </thead>\n",
       "  <tbody>\n",
       "    <tr>\n",
       "      <th>0</th>\n",
       "      <td>24.0</td>\n",
       "      <td>55.0</td>\n",
       "      <td>Kowno</td>\n",
       "      <td>37.6</td>\n",
       "      <td>0.0</td>\n",
       "      <td>6.0</td>\n",
       "      <td>Oct</td>\n",
       "      <td>18.0</td>\n",
       "      <td>24.0</td>\n",
       "      <td>54.9</td>\n",
       "      <td>340000</td>\n",
       "      <td>A</td>\n",
       "      <td>1</td>\n",
       "    </tr>\n",
       "    <tr>\n",
       "      <th>1</th>\n",
       "      <td>25.3</td>\n",
       "      <td>54.7</td>\n",
       "      <td>Wilna</td>\n",
       "      <td>36.0</td>\n",
       "      <td>0.0</td>\n",
       "      <td>6.0</td>\n",
       "      <td>Oct</td>\n",
       "      <td>24.0</td>\n",
       "      <td>24.5</td>\n",
       "      <td>55.0</td>\n",
       "      <td>340000</td>\n",
       "      <td>A</td>\n",
       "      <td>1</td>\n",
       "    </tr>\n",
       "    <tr>\n",
       "      <th>2</th>\n",
       "      <td>26.4</td>\n",
       "      <td>54.4</td>\n",
       "      <td>Smorgoni</td>\n",
       "      <td>33.2</td>\n",
       "      <td>-9.0</td>\n",
       "      <td>16.0</td>\n",
       "      <td>Nov</td>\n",
       "      <td>9.0</td>\n",
       "      <td>25.5</td>\n",
       "      <td>54.5</td>\n",
       "      <td>340000</td>\n",
       "      <td>A</td>\n",
       "      <td>1</td>\n",
       "    </tr>\n",
       "  </tbody>\n",
       "</table>\n",
       "</div>"
      ],
      "text/plain": [
       "   LONC  LATC      CITY  LONT  TEMP  DAYS  MON   DAY  LONP  LATP    SURV DIR  \\\n",
       "0  24.0  55.0     Kowno  37.6   0.0   6.0  Oct  18.0  24.0  54.9  340000   A   \n",
       "1  25.3  54.7     Wilna  36.0   0.0   6.0  Oct  24.0  24.5  55.0  340000   A   \n",
       "2  26.4  54.4  Smorgoni  33.2  -9.0  16.0  Nov   9.0  25.5  54.5  340000   A   \n",
       "\n",
       "   DIV  \n",
       "0    1  \n",
       "1    1  \n",
       "2    1  "
      ]
     },
     "execution_count": 37,
     "metadata": {},
     "output_type": "execute_result"
    }
   ],
   "source": []
  },
  {
   "cell_type": "code",
   "execution_count": null,
   "metadata": {},
   "outputs": [],
   "source": []
  }
 ],
 "metadata": {
  "kernelspec": {
   "display_name": "Python 2",
   "language": "python",
   "name": "python2"
  },
  "language_info": {
   "codemirror_mode": {
    "name": "ipython",
    "version": 2
   },
   "file_extension": ".py",
   "mimetype": "text/x-python",
   "name": "python",
   "nbconvert_exporter": "python",
   "pygments_lexer": "ipython2",
   "version": "2.7.15"
  }
 },
 "nbformat": 4,
 "nbformat_minor": 2
}
